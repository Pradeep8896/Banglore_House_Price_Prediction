{
 "cells": [
  {
   "cell_type": "code",
   "execution_count": 1,
   "id": "57eef194",
   "metadata": {},
   "outputs": [],
   "source": [
    "import pandas as pd\n",
    "import numpy as np\n",
    "import seaborn as sns\n",
    "import matplotlib.pyplot as plt\n",
    "\n"
   ]
  },
  {
   "cell_type": "code",
   "execution_count": 2,
   "id": "bf337cc7",
   "metadata": {},
   "outputs": [
    {
     "data": {
      "text/html": [
       "<div>\n",
       "<style scoped>\n",
       "    .dataframe tbody tr th:only-of-type {\n",
       "        vertical-align: middle;\n",
       "    }\n",
       "\n",
       "    .dataframe tbody tr th {\n",
       "        vertical-align: top;\n",
       "    }\n",
       "\n",
       "    .dataframe thead th {\n",
       "        text-align: right;\n",
       "    }\n",
       "</style>\n",
       "<table border=\"1\" class=\"dataframe\">\n",
       "  <thead>\n",
       "    <tr style=\"text-align: right;\">\n",
       "      <th></th>\n",
       "      <th>area_type</th>\n",
       "      <th>availability</th>\n",
       "      <th>location</th>\n",
       "      <th>size</th>\n",
       "      <th>society</th>\n",
       "      <th>total_sqft</th>\n",
       "      <th>bath</th>\n",
       "      <th>balcony</th>\n",
       "      <th>price</th>\n",
       "    </tr>\n",
       "  </thead>\n",
       "  <tbody>\n",
       "    <tr>\n",
       "      <th>0</th>\n",
       "      <td>Super built-up  Area</td>\n",
       "      <td>19-Dec</td>\n",
       "      <td>Electronic City Phase II</td>\n",
       "      <td>2 BHK</td>\n",
       "      <td>Coomee</td>\n",
       "      <td>1056</td>\n",
       "      <td>2.0</td>\n",
       "      <td>1.0</td>\n",
       "      <td>39.07</td>\n",
       "    </tr>\n",
       "    <tr>\n",
       "      <th>1</th>\n",
       "      <td>Plot  Area</td>\n",
       "      <td>Ready To Move</td>\n",
       "      <td>Chikka Tirupathi</td>\n",
       "      <td>4 Bedroom</td>\n",
       "      <td>Theanmp</td>\n",
       "      <td>2600</td>\n",
       "      <td>5.0</td>\n",
       "      <td>3.0</td>\n",
       "      <td>120.00</td>\n",
       "    </tr>\n",
       "    <tr>\n",
       "      <th>2</th>\n",
       "      <td>Built-up  Area</td>\n",
       "      <td>Ready To Move</td>\n",
       "      <td>Uttarahalli</td>\n",
       "      <td>3 BHK</td>\n",
       "      <td>NaN</td>\n",
       "      <td>1440</td>\n",
       "      <td>2.0</td>\n",
       "      <td>3.0</td>\n",
       "      <td>62.00</td>\n",
       "    </tr>\n",
       "    <tr>\n",
       "      <th>3</th>\n",
       "      <td>Super built-up  Area</td>\n",
       "      <td>Ready To Move</td>\n",
       "      <td>Lingadheeranahalli</td>\n",
       "      <td>3 BHK</td>\n",
       "      <td>Soiewre</td>\n",
       "      <td>1521</td>\n",
       "      <td>3.0</td>\n",
       "      <td>1.0</td>\n",
       "      <td>95.00</td>\n",
       "    </tr>\n",
       "    <tr>\n",
       "      <th>4</th>\n",
       "      <td>Super built-up  Area</td>\n",
       "      <td>Ready To Move</td>\n",
       "      <td>Kothanur</td>\n",
       "      <td>2 BHK</td>\n",
       "      <td>NaN</td>\n",
       "      <td>1200</td>\n",
       "      <td>2.0</td>\n",
       "      <td>1.0</td>\n",
       "      <td>51.00</td>\n",
       "    </tr>\n",
       "  </tbody>\n",
       "</table>\n",
       "</div>"
      ],
      "text/plain": [
       "              area_type   availability                  location       size  \\\n",
       "0  Super built-up  Area         19-Dec  Electronic City Phase II      2 BHK   \n",
       "1            Plot  Area  Ready To Move          Chikka Tirupathi  4 Bedroom   \n",
       "2        Built-up  Area  Ready To Move               Uttarahalli      3 BHK   \n",
       "3  Super built-up  Area  Ready To Move        Lingadheeranahalli      3 BHK   \n",
       "4  Super built-up  Area  Ready To Move                  Kothanur      2 BHK   \n",
       "\n",
       "   society total_sqft  bath  balcony   price  \n",
       "0  Coomee        1056   2.0      1.0   39.07  \n",
       "1  Theanmp       2600   5.0      3.0  120.00  \n",
       "2      NaN       1440   2.0      3.0   62.00  \n",
       "3  Soiewre       1521   3.0      1.0   95.00  \n",
       "4      NaN       1200   2.0      1.0   51.00  "
      ]
     },
     "execution_count": 2,
     "metadata": {},
     "output_type": "execute_result"
    }
   ],
   "source": [
    "house=pd.read_csv('Bengaluru_House_Data.csv')\n",
    "house.head()"
   ]
  },
  {
   "cell_type": "markdown",
   "id": "9754daab",
   "metadata": {},
   "source": [
    "## Shape"
   ]
  },
  {
   "cell_type": "code",
   "execution_count": 3,
   "id": "a18a7bd2",
   "metadata": {},
   "outputs": [
    {
     "data": {
      "text/plain": [
       "(13320, 9)"
      ]
     },
     "execution_count": 3,
     "metadata": {},
     "output_type": "execute_result"
    }
   ],
   "source": [
    "house.shape"
   ]
  },
  {
   "cell_type": "markdown",
   "id": "1aad2afa",
   "metadata": {},
   "source": [
    "## Missing Value"
   ]
  },
  {
   "cell_type": "code",
   "execution_count": 139,
   "id": "84216f5b",
   "metadata": {
    "scrolled": true
   },
   "outputs": [
    {
     "data": {
      "text/plain": [
       "area_type        0.000000\n",
       "availability     0.000000\n",
       "location         0.007508\n",
       "size             0.120120\n",
       "society         41.306306\n",
       "total_sqft       0.000000\n",
       "bath             0.548048\n",
       "balcony          4.572072\n",
       "price            0.000000\n",
       "upd_price        0.000000\n",
       "price_cat        0.000000\n",
       "dtype: float64"
      ]
     },
     "execution_count": 139,
     "metadata": {},
     "output_type": "execute_result"
    }
   ],
   "source": [
    "drop_col=house.isnull().mean()*100\n",
    "drop_col"
   ]
  },
  {
   "cell_type": "code",
   "execution_count": 136,
   "id": "3d5b2215",
   "metadata": {
    "scrolled": true
   },
   "outputs": [
    {
     "data": {
      "text/plain": [
       "Index(['size', 'society', 'bath', 'balcony'], dtype='object')"
      ]
     },
     "execution_count": 136,
     "metadata": {},
     "output_type": "execute_result"
    }
   ],
   "source": [
    "drop_col[drop_col>15].keys()"
   ]
  },
  {
   "cell_type": "code",
   "execution_count": 140,
   "id": "c1a75d1e",
   "metadata": {},
   "outputs": [],
   "source": [
    "new_df=house.copy()"
   ]
  },
  {
   "cell_type": "code",
   "execution_count": 141,
   "id": "6afcd53d",
   "metadata": {},
   "outputs": [
    {
     "data": {
      "text/html": [
       "<div>\n",
       "<style scoped>\n",
       "    .dataframe tbody tr th:only-of-type {\n",
       "        vertical-align: middle;\n",
       "    }\n",
       "\n",
       "    .dataframe tbody tr th {\n",
       "        vertical-align: top;\n",
       "    }\n",
       "\n",
       "    .dataframe thead th {\n",
       "        text-align: right;\n",
       "    }\n",
       "</style>\n",
       "<table border=\"1\" class=\"dataframe\">\n",
       "  <thead>\n",
       "    <tr style=\"text-align: right;\">\n",
       "      <th></th>\n",
       "      <th>area_type</th>\n",
       "      <th>availability</th>\n",
       "      <th>location</th>\n",
       "      <th>size</th>\n",
       "      <th>society</th>\n",
       "      <th>total_sqft</th>\n",
       "      <th>bath</th>\n",
       "      <th>balcony</th>\n",
       "      <th>price</th>\n",
       "      <th>upd_price</th>\n",
       "      <th>price_cat</th>\n",
       "    </tr>\n",
       "  </thead>\n",
       "  <tbody>\n",
       "    <tr>\n",
       "      <th>0</th>\n",
       "      <td>Super built-up  Area</td>\n",
       "      <td>19-Dec</td>\n",
       "      <td>Electronic City Phase II</td>\n",
       "      <td>2 BHK</td>\n",
       "      <td>Coomee</td>\n",
       "      <td>1056</td>\n",
       "      <td>2.0</td>\n",
       "      <td>1.0</td>\n",
       "      <td>39.07</td>\n",
       "      <td>39.07</td>\n",
       "      <td>39.07</td>\n",
       "    </tr>\n",
       "    <tr>\n",
       "      <th>1</th>\n",
       "      <td>Plot  Area</td>\n",
       "      <td>Ready To Move</td>\n",
       "      <td>Chikka Tirupathi</td>\n",
       "      <td>4 Bedroom</td>\n",
       "      <td>Theanmp</td>\n",
       "      <td>2600</td>\n",
       "      <td>5.0</td>\n",
       "      <td>3.0</td>\n",
       "      <td>120.00</td>\n",
       "      <td>120.00</td>\n",
       "      <td>120.00</td>\n",
       "    </tr>\n",
       "    <tr>\n",
       "      <th>2</th>\n",
       "      <td>Built-up  Area</td>\n",
       "      <td>Ready To Move</td>\n",
       "      <td>Uttarahalli</td>\n",
       "      <td>3 BHK</td>\n",
       "      <td>NaN</td>\n",
       "      <td>1440</td>\n",
       "      <td>2.0</td>\n",
       "      <td>3.0</td>\n",
       "      <td>62.00</td>\n",
       "      <td>62.00</td>\n",
       "      <td>62.00</td>\n",
       "    </tr>\n",
       "    <tr>\n",
       "      <th>3</th>\n",
       "      <td>Super built-up  Area</td>\n",
       "      <td>Ready To Move</td>\n",
       "      <td>Lingadheeranahalli</td>\n",
       "      <td>3 BHK</td>\n",
       "      <td>Soiewre</td>\n",
       "      <td>1521</td>\n",
       "      <td>3.0</td>\n",
       "      <td>1.0</td>\n",
       "      <td>95.00</td>\n",
       "      <td>95.00</td>\n",
       "      <td>95.00</td>\n",
       "    </tr>\n",
       "    <tr>\n",
       "      <th>4</th>\n",
       "      <td>Super built-up  Area</td>\n",
       "      <td>Ready To Move</td>\n",
       "      <td>Kothanur</td>\n",
       "      <td>2 BHK</td>\n",
       "      <td>NaN</td>\n",
       "      <td>1200</td>\n",
       "      <td>2.0</td>\n",
       "      <td>1.0</td>\n",
       "      <td>51.00</td>\n",
       "      <td>51.00</td>\n",
       "      <td>51.00</td>\n",
       "    </tr>\n",
       "    <tr>\n",
       "      <th>...</th>\n",
       "      <td>...</td>\n",
       "      <td>...</td>\n",
       "      <td>...</td>\n",
       "      <td>...</td>\n",
       "      <td>...</td>\n",
       "      <td>...</td>\n",
       "      <td>...</td>\n",
       "      <td>...</td>\n",
       "      <td>...</td>\n",
       "      <td>...</td>\n",
       "      <td>...</td>\n",
       "    </tr>\n",
       "    <tr>\n",
       "      <th>13315</th>\n",
       "      <td>Built-up  Area</td>\n",
       "      <td>Ready To Move</td>\n",
       "      <td>Whitefield</td>\n",
       "      <td>5 Bedroom</td>\n",
       "      <td>ArsiaEx</td>\n",
       "      <td>3453</td>\n",
       "      <td>4.0</td>\n",
       "      <td>0.0</td>\n",
       "      <td>231.00</td>\n",
       "      <td>190.00</td>\n",
       "      <td>231.00</td>\n",
       "    </tr>\n",
       "    <tr>\n",
       "      <th>13316</th>\n",
       "      <td>Super built-up  Area</td>\n",
       "      <td>Ready To Move</td>\n",
       "      <td>Richards Town</td>\n",
       "      <td>4 BHK</td>\n",
       "      <td>NaN</td>\n",
       "      <td>3600</td>\n",
       "      <td>5.0</td>\n",
       "      <td>NaN</td>\n",
       "      <td>400.00</td>\n",
       "      <td>190.00</td>\n",
       "      <td>400.00</td>\n",
       "    </tr>\n",
       "    <tr>\n",
       "      <th>13317</th>\n",
       "      <td>Built-up  Area</td>\n",
       "      <td>Ready To Move</td>\n",
       "      <td>Raja Rajeshwari Nagar</td>\n",
       "      <td>2 BHK</td>\n",
       "      <td>Mahla T</td>\n",
       "      <td>1141</td>\n",
       "      <td>2.0</td>\n",
       "      <td>1.0</td>\n",
       "      <td>60.00</td>\n",
       "      <td>60.00</td>\n",
       "      <td>60.00</td>\n",
       "    </tr>\n",
       "    <tr>\n",
       "      <th>13318</th>\n",
       "      <td>Super built-up  Area</td>\n",
       "      <td>18-Jun</td>\n",
       "      <td>Padmanabhanagar</td>\n",
       "      <td>4 BHK</td>\n",
       "      <td>SollyCl</td>\n",
       "      <td>4689</td>\n",
       "      <td>4.0</td>\n",
       "      <td>1.0</td>\n",
       "      <td>488.00</td>\n",
       "      <td>190.00</td>\n",
       "      <td>488.00</td>\n",
       "    </tr>\n",
       "    <tr>\n",
       "      <th>13319</th>\n",
       "      <td>Super built-up  Area</td>\n",
       "      <td>Ready To Move</td>\n",
       "      <td>Doddathoguru</td>\n",
       "      <td>1 BHK</td>\n",
       "      <td>NaN</td>\n",
       "      <td>550</td>\n",
       "      <td>1.0</td>\n",
       "      <td>1.0</td>\n",
       "      <td>17.00</td>\n",
       "      <td>17.00</td>\n",
       "      <td>17.00</td>\n",
       "    </tr>\n",
       "  </tbody>\n",
       "</table>\n",
       "<p>13320 rows × 11 columns</p>\n",
       "</div>"
      ],
      "text/plain": [
       "                  area_type   availability                  location  \\\n",
       "0      Super built-up  Area         19-Dec  Electronic City Phase II   \n",
       "1                Plot  Area  Ready To Move          Chikka Tirupathi   \n",
       "2            Built-up  Area  Ready To Move               Uttarahalli   \n",
       "3      Super built-up  Area  Ready To Move        Lingadheeranahalli   \n",
       "4      Super built-up  Area  Ready To Move                  Kothanur   \n",
       "...                     ...            ...                       ...   \n",
       "13315        Built-up  Area  Ready To Move                Whitefield   \n",
       "13316  Super built-up  Area  Ready To Move             Richards Town   \n",
       "13317        Built-up  Area  Ready To Move     Raja Rajeshwari Nagar   \n",
       "13318  Super built-up  Area         18-Jun           Padmanabhanagar   \n",
       "13319  Super built-up  Area  Ready To Move              Doddathoguru   \n",
       "\n",
       "            size  society total_sqft  bath  balcony   price  upd_price  \\\n",
       "0          2 BHK  Coomee        1056   2.0      1.0   39.07      39.07   \n",
       "1      4 Bedroom  Theanmp       2600   5.0      3.0  120.00     120.00   \n",
       "2          3 BHK      NaN       1440   2.0      3.0   62.00      62.00   \n",
       "3          3 BHK  Soiewre       1521   3.0      1.0   95.00      95.00   \n",
       "4          2 BHK      NaN       1200   2.0      1.0   51.00      51.00   \n",
       "...          ...      ...        ...   ...      ...     ...        ...   \n",
       "13315  5 Bedroom  ArsiaEx       3453   4.0      0.0  231.00     190.00   \n",
       "13316      4 BHK      NaN       3600   5.0      NaN  400.00     190.00   \n",
       "13317      2 BHK  Mahla T       1141   2.0      1.0   60.00      60.00   \n",
       "13318      4 BHK  SollyCl       4689   4.0      1.0  488.00     190.00   \n",
       "13319      1 BHK      NaN        550   1.0      1.0   17.00      17.00   \n",
       "\n",
       "       price_cat  \n",
       "0          39.07  \n",
       "1         120.00  \n",
       "2          62.00  \n",
       "3          95.00  \n",
       "4          51.00  \n",
       "...          ...  \n",
       "13315     231.00  \n",
       "13316     400.00  \n",
       "13317      60.00  \n",
       "13318     488.00  \n",
       "13319      17.00  \n",
       "\n",
       "[13320 rows x 11 columns]"
      ]
     },
     "execution_count": 141,
     "metadata": {},
     "output_type": "execute_result"
    }
   ],
   "source": [
    "new_df"
   ]
  },
  {
   "cell_type": "code",
   "execution_count": null,
   "id": "137384e2",
   "metadata": {},
   "outputs": [],
   "source": []
  },
  {
   "cell_type": "code",
   "execution_count": 5,
   "id": "77fb1def",
   "metadata": {},
   "outputs": [],
   "source": [
    "location_mode=house['location'].mode()\n",
    "house['location']=house['location'].fillna(location_mode)"
   ]
  },
  {
   "cell_type": "code",
   "execution_count": 124,
   "id": "62581cd3",
   "metadata": {
    "scrolled": false
   },
   "outputs": [
    {
     "name": "stdout",
     "output_type": "stream",
     "text": [
      "<class 'pandas.core.frame.DataFrame'>\n",
      "RangeIndex: 13320 entries, 0 to 13319\n",
      "Data columns (total 11 columns):\n",
      " #   Column        Non-Null Count  Dtype  \n",
      "---  ------        --------------  -----  \n",
      " 0   area_type     13320 non-null  object \n",
      " 1   availability  13320 non-null  object \n",
      " 2   location      13319 non-null  object \n",
      " 3   size          13304 non-null  object \n",
      " 4   society       7818 non-null   object \n",
      " 5   total_sqft    13320 non-null  object \n",
      " 6   bath          13247 non-null  float64\n",
      " 7   balcony       12711 non-null  float64\n",
      " 8   price         13320 non-null  float64\n",
      " 9   upd_price     13320 non-null  float64\n",
      " 10  price_cat     13320 non-null  float64\n",
      "dtypes: float64(5), object(6)\n",
      "memory usage: 1.1+ MB\n"
     ]
    }
   ],
   "source": [
    "house.info()"
   ]
  },
  {
   "cell_type": "code",
   "execution_count": 7,
   "id": "2c0e2421",
   "metadata": {},
   "outputs": [
    {
     "data": {
      "text/plain": [
       "8.064468821273252"
      ]
     },
     "execution_count": 7,
     "metadata": {},
     "output_type": "execute_result"
    }
   ],
   "source": [
    "house['price'].skew()"
   ]
  },
  {
   "cell_type": "code",
   "execution_count": 8,
   "id": "29d55b1e",
   "metadata": {
    "scrolled": true
   },
   "outputs": [
    {
     "data": {
      "text/html": [
       "<div>\n",
       "<style scoped>\n",
       "    .dataframe tbody tr th:only-of-type {\n",
       "        vertical-align: middle;\n",
       "    }\n",
       "\n",
       "    .dataframe tbody tr th {\n",
       "        vertical-align: top;\n",
       "    }\n",
       "\n",
       "    .dataframe thead th {\n",
       "        text-align: right;\n",
       "    }\n",
       "</style>\n",
       "<table border=\"1\" class=\"dataframe\">\n",
       "  <thead>\n",
       "    <tr style=\"text-align: right;\">\n",
       "      <th></th>\n",
       "      <th>area_type</th>\n",
       "      <th>availability</th>\n",
       "      <th>location</th>\n",
       "      <th>size</th>\n",
       "      <th>society</th>\n",
       "      <th>total_sqft</th>\n",
       "      <th>bath</th>\n",
       "      <th>balcony</th>\n",
       "      <th>price</th>\n",
       "      <th>upd_price</th>\n",
       "      <th>price_cat</th>\n",
       "    </tr>\n",
       "  </thead>\n",
       "  <tbody>\n",
       "    <tr>\n",
       "      <th>0</th>\n",
       "      <td>Super built-up  Area</td>\n",
       "      <td>19-Dec</td>\n",
       "      <td>Electronic City Phase II</td>\n",
       "      <td>2 BHK</td>\n",
       "      <td>Coomee</td>\n",
       "      <td>1056</td>\n",
       "      <td>2.0</td>\n",
       "      <td>1.0</td>\n",
       "      <td>39.07</td>\n",
       "      <td>39.07</td>\n",
       "      <td>39.07</td>\n",
       "    </tr>\n",
       "    <tr>\n",
       "      <th>1</th>\n",
       "      <td>Plot  Area</td>\n",
       "      <td>Ready To Move</td>\n",
       "      <td>Chikka Tirupathi</td>\n",
       "      <td>4 Bedroom</td>\n",
       "      <td>Theanmp</td>\n",
       "      <td>2600</td>\n",
       "      <td>5.0</td>\n",
       "      <td>3.0</td>\n",
       "      <td>120.00</td>\n",
       "      <td>120.00</td>\n",
       "      <td>120.00</td>\n",
       "    </tr>\n",
       "    <tr>\n",
       "      <th>2</th>\n",
       "      <td>Built-up  Area</td>\n",
       "      <td>Ready To Move</td>\n",
       "      <td>Uttarahalli</td>\n",
       "      <td>3 BHK</td>\n",
       "      <td>NaN</td>\n",
       "      <td>1440</td>\n",
       "      <td>2.0</td>\n",
       "      <td>3.0</td>\n",
       "      <td>62.00</td>\n",
       "      <td>62.00</td>\n",
       "      <td>62.00</td>\n",
       "    </tr>\n",
       "    <tr>\n",
       "      <th>3</th>\n",
       "      <td>Super built-up  Area</td>\n",
       "      <td>Ready To Move</td>\n",
       "      <td>Lingadheeranahalli</td>\n",
       "      <td>3 BHK</td>\n",
       "      <td>Soiewre</td>\n",
       "      <td>1521</td>\n",
       "      <td>3.0</td>\n",
       "      <td>1.0</td>\n",
       "      <td>95.00</td>\n",
       "      <td>95.00</td>\n",
       "      <td>95.00</td>\n",
       "    </tr>\n",
       "    <tr>\n",
       "      <th>4</th>\n",
       "      <td>Super built-up  Area</td>\n",
       "      <td>Ready To Move</td>\n",
       "      <td>Kothanur</td>\n",
       "      <td>2 BHK</td>\n",
       "      <td>NaN</td>\n",
       "      <td>1200</td>\n",
       "      <td>2.0</td>\n",
       "      <td>1.0</td>\n",
       "      <td>51.00</td>\n",
       "      <td>51.00</td>\n",
       "      <td>51.00</td>\n",
       "    </tr>\n",
       "  </tbody>\n",
       "</table>\n",
       "</div>"
      ],
      "text/plain": [
       "              area_type   availability                  location       size  \\\n",
       "0  Super built-up  Area         19-Dec  Electronic City Phase II      2 BHK   \n",
       "1            Plot  Area  Ready To Move          Chikka Tirupathi  4 Bedroom   \n",
       "2        Built-up  Area  Ready To Move               Uttarahalli      3 BHK   \n",
       "3  Super built-up  Area  Ready To Move        Lingadheeranahalli      3 BHK   \n",
       "4  Super built-up  Area  Ready To Move                  Kothanur      2 BHK   \n",
       "\n",
       "   society total_sqft  bath  balcony   price  upd_price  price_cat  \n",
       "0  Coomee        1056   2.0      1.0   39.07      39.07      39.07  \n",
       "1  Theanmp       2600   5.0      3.0  120.00     120.00     120.00  \n",
       "2      NaN       1440   2.0      3.0   62.00      62.00      62.00  \n",
       "3  Soiewre       1521   3.0      1.0   95.00      95.00      95.00  \n",
       "4      NaN       1200   2.0      1.0   51.00      51.00      51.00  "
      ]
     },
     "execution_count": 8,
     "metadata": {},
     "output_type": "execute_result"
    }
   ],
   "source": [
    "house['upd_price']=house['price']\n",
    "house['price_cat']=house['price']\n",
    "house.head()"
   ]
  },
  {
   "cell_type": "code",
   "execution_count": null,
   "id": "31d55d28",
   "metadata": {},
   "outputs": [],
   "source": []
  },
  {
   "cell_type": "markdown",
   "id": "a8cef1b8",
   "metadata": {},
   "source": [
    "## Capping outliers in upd_price for better results (IQR)"
   ]
  },
  {
   "cell_type": "code",
   "execution_count": 9,
   "id": "fbb8d788",
   "metadata": {},
   "outputs": [
    {
     "name": "stdout",
     "output_type": "stream",
     "text": [
      "190.0 -20.0\n"
     ]
    }
   ],
   "source": [
    "q1=house['upd_price'].quantile(0.25)\n",
    "q3=house['upd_price'].quantile(0.75)\n",
    "iqr=q3-q1\n",
    "ul=q3+iqr\n",
    "ll=q1-iqr\n",
    "print(ul,ll)"
   ]
  },
  {
   "cell_type": "code",
   "execution_count": 10,
   "id": "132edcf7",
   "metadata": {},
   "outputs": [],
   "source": [
    "house['upd_price']=np.where(house['upd_price']>=ul,ul,np.where(house['upd_price']<=ll,ll,house['upd_price']))"
   ]
  },
  {
   "cell_type": "code",
   "execution_count": null,
   "id": "629ac895",
   "metadata": {},
   "outputs": [],
   "source": []
  },
  {
   "cell_type": "code",
   "execution_count": 11,
   "id": "2d9737d4",
   "metadata": {},
   "outputs": [
    {
     "data": {
      "text/html": [
       "<div>\n",
       "<style scoped>\n",
       "    .dataframe tbody tr th:only-of-type {\n",
       "        vertical-align: middle;\n",
       "    }\n",
       "\n",
       "    .dataframe tbody tr th {\n",
       "        vertical-align: top;\n",
       "    }\n",
       "\n",
       "    .dataframe thead th {\n",
       "        text-align: right;\n",
       "    }\n",
       "</style>\n",
       "<table border=\"1\" class=\"dataframe\">\n",
       "  <thead>\n",
       "    <tr style=\"text-align: right;\">\n",
       "      <th></th>\n",
       "      <th>area_type</th>\n",
       "      <th>availability</th>\n",
       "      <th>location</th>\n",
       "      <th>size</th>\n",
       "      <th>society</th>\n",
       "      <th>total_sqft</th>\n",
       "      <th>bath</th>\n",
       "      <th>balcony</th>\n",
       "      <th>price</th>\n",
       "      <th>upd_price</th>\n",
       "      <th>price_cat</th>\n",
       "    </tr>\n",
       "  </thead>\n",
       "  <tbody>\n",
       "    <tr>\n",
       "      <th>6794</th>\n",
       "      <td>Built-up  Area</td>\n",
       "      <td>Ready To Move</td>\n",
       "      <td>Raja Rajeshwari Nagar</td>\n",
       "      <td>3 BHK</td>\n",
       "      <td>NaN</td>\n",
       "      <td>3000</td>\n",
       "      <td>3.0</td>\n",
       "      <td>2.0</td>\n",
       "      <td>60.00</td>\n",
       "      <td>60.00</td>\n",
       "      <td>60.00</td>\n",
       "    </tr>\n",
       "    <tr>\n",
       "      <th>5126</th>\n",
       "      <td>Built-up  Area</td>\n",
       "      <td>Ready To Move</td>\n",
       "      <td>Kasavanhalli</td>\n",
       "      <td>3 Bedroom</td>\n",
       "      <td>NaN</td>\n",
       "      <td>2111</td>\n",
       "      <td>4.0</td>\n",
       "      <td>3.0</td>\n",
       "      <td>120.00</td>\n",
       "      <td>120.00</td>\n",
       "      <td>120.00</td>\n",
       "    </tr>\n",
       "    <tr>\n",
       "      <th>3142</th>\n",
       "      <td>Super built-up  Area</td>\n",
       "      <td>19-Dec</td>\n",
       "      <td>Hoodi</td>\n",
       "      <td>3 BHK</td>\n",
       "      <td>Caycend</td>\n",
       "      <td>1553</td>\n",
       "      <td>3.0</td>\n",
       "      <td>2.0</td>\n",
       "      <td>83.09</td>\n",
       "      <td>83.09</td>\n",
       "      <td>83.09</td>\n",
       "    </tr>\n",
       "    <tr>\n",
       "      <th>8393</th>\n",
       "      <td>Super built-up  Area</td>\n",
       "      <td>Ready To Move</td>\n",
       "      <td>Hebbal Kempapura</td>\n",
       "      <td>2 BHK</td>\n",
       "      <td>Goateds</td>\n",
       "      <td>1400</td>\n",
       "      <td>2.0</td>\n",
       "      <td>2.0</td>\n",
       "      <td>108.00</td>\n",
       "      <td>108.00</td>\n",
       "      <td>108.00</td>\n",
       "    </tr>\n",
       "    <tr>\n",
       "      <th>1548</th>\n",
       "      <td>Built-up  Area</td>\n",
       "      <td>Ready To Move</td>\n",
       "      <td>Sarjapur</td>\n",
       "      <td>2 BHK</td>\n",
       "      <td>NaN</td>\n",
       "      <td>1195</td>\n",
       "      <td>2.0</td>\n",
       "      <td>1.0</td>\n",
       "      <td>42.00</td>\n",
       "      <td>42.00</td>\n",
       "      <td>42.00</td>\n",
       "    </tr>\n",
       "    <tr>\n",
       "      <th>10858</th>\n",
       "      <td>Super built-up  Area</td>\n",
       "      <td>Ready To Move</td>\n",
       "      <td>Kaval Byrasandra</td>\n",
       "      <td>3 BHK</td>\n",
       "      <td>SyOnen</td>\n",
       "      <td>1900</td>\n",
       "      <td>2.0</td>\n",
       "      <td>2.0</td>\n",
       "      <td>65.00</td>\n",
       "      <td>65.00</td>\n",
       "      <td>65.00</td>\n",
       "    </tr>\n",
       "  </tbody>\n",
       "</table>\n",
       "</div>"
      ],
      "text/plain": [
       "                  area_type   availability               location       size  \\\n",
       "6794         Built-up  Area  Ready To Move  Raja Rajeshwari Nagar      3 BHK   \n",
       "5126         Built-up  Area  Ready To Move           Kasavanhalli  3 Bedroom   \n",
       "3142   Super built-up  Area         19-Dec                  Hoodi      3 BHK   \n",
       "8393   Super built-up  Area  Ready To Move       Hebbal Kempapura      2 BHK   \n",
       "1548         Built-up  Area  Ready To Move               Sarjapur      2 BHK   \n",
       "10858  Super built-up  Area  Ready To Move       Kaval Byrasandra      3 BHK   \n",
       "\n",
       "       society total_sqft  bath  balcony   price  upd_price  price_cat  \n",
       "6794       NaN       3000   3.0      2.0   60.00      60.00      60.00  \n",
       "5126       NaN       2111   4.0      3.0  120.00     120.00     120.00  \n",
       "3142   Caycend       1553   3.0      2.0   83.09      83.09      83.09  \n",
       "8393   Goateds       1400   2.0      2.0  108.00     108.00     108.00  \n",
       "1548       NaN       1195   2.0      1.0   42.00      42.00      42.00  \n",
       "10858  SyOnen        1900   2.0      2.0   65.00      65.00      65.00  "
      ]
     },
     "execution_count": 11,
     "metadata": {},
     "output_type": "execute_result"
    }
   ],
   "source": [
    "house.sample(6)"
   ]
  },
  {
   "cell_type": "code",
   "execution_count": 12,
   "id": "3f43dc5c",
   "metadata": {},
   "outputs": [
    {
     "data": {
      "text/plain": [
       "<AxesSubplot:xlabel='upd_price'>"
      ]
     },
     "execution_count": 12,
     "metadata": {},
     "output_type": "execute_result"
    },
    {
     "data": {
      "image/png": "[encoded data removed]",
      "text/plain": [
       "<Figure size 864x360 with 2 Axes>"
      ]
     },
     "metadata": {
      "needs_background": "light"
     },
     "output_type": "display_data"
    }
   ],
   "source": [
    "plt.figure(figsize=(12,5))\n",
    "plt.subplot(121)\n",
    "sns.boxplot(x=house['price'])\n",
    "plt.subplot(122)\n",
    "sns.boxplot(x=house['upd_price'])"
   ]
  },
  {
   "cell_type": "code",
   "execution_count": 13,
   "id": "8c7604a0",
   "metadata": {
    "scrolled": true
   },
   "outputs": [
    {
     "data": {
      "text/plain": [
       "0.8371594360210096"
      ]
     },
     "execution_count": 13,
     "metadata": {},
     "output_type": "execute_result"
    }
   ],
   "source": [
    "house['upd_price'].skew()"
   ]
  },
  {
   "cell_type": "code",
   "execution_count": 14,
   "id": "115e2bca",
   "metadata": {},
   "outputs": [
    {
     "data": {
      "text/plain": [
       "<AxesSubplot:ylabel='Density'>"
      ]
     },
     "execution_count": 14,
     "metadata": {},
     "output_type": "execute_result"
    },
    {
     "data": {
      "image/png": "[encoded data removed]",
      "text/plain": [
       "<Figure size 432x288 with 1 Axes>"
      ]
     },
     "metadata": {
      "needs_background": "light"
     },
     "output_type": "display_data"
    }
   ],
   "source": [
    "house['upd_price'].plot(kind='kde')"
   ]
  },
  {
   "cell_type": "markdown",
   "id": "08c3e7b1",
   "metadata": {},
   "source": [
    "## capping price value with the help of other columns"
   ]
  },
  {
   "cell_type": "code",
   "execution_count": 15,
   "id": "5b18b2bb",
   "metadata": {
    "scrolled": false
   },
   "outputs": [
    {
     "data": {
      "text/html": [
       "<div>\n",
       "<style scoped>\n",
       "    .dataframe tbody tr th:only-of-type {\n",
       "        vertical-align: middle;\n",
       "    }\n",
       "\n",
       "    .dataframe tbody tr th {\n",
       "        vertical-align: top;\n",
       "    }\n",
       "\n",
       "    .dataframe thead th {\n",
       "        text-align: right;\n",
       "    }\n",
       "</style>\n",
       "<table border=\"1\" class=\"dataframe\">\n",
       "  <thead>\n",
       "    <tr style=\"text-align: right;\">\n",
       "      <th></th>\n",
       "      <th>area_type</th>\n",
       "      <th>availability</th>\n",
       "      <th>location</th>\n",
       "      <th>size</th>\n",
       "      <th>society</th>\n",
       "      <th>total_sqft</th>\n",
       "      <th>bath</th>\n",
       "      <th>balcony</th>\n",
       "      <th>price</th>\n",
       "      <th>upd_price</th>\n",
       "      <th>price_cat</th>\n",
       "    </tr>\n",
       "  </thead>\n",
       "  <tbody>\n",
       "    <tr>\n",
       "      <th>0</th>\n",
       "      <td>Super built-up  Area</td>\n",
       "      <td>19-Dec</td>\n",
       "      <td>Electronic City Phase II</td>\n",
       "      <td>2 BHK</td>\n",
       "      <td>Coomee</td>\n",
       "      <td>1056</td>\n",
       "      <td>2.0</td>\n",
       "      <td>1.0</td>\n",
       "      <td>39.07</td>\n",
       "      <td>39.07</td>\n",
       "      <td>39.07</td>\n",
       "    </tr>\n",
       "    <tr>\n",
       "      <th>1</th>\n",
       "      <td>Plot  Area</td>\n",
       "      <td>Ready To Move</td>\n",
       "      <td>Chikka Tirupathi</td>\n",
       "      <td>4 Bedroom</td>\n",
       "      <td>Theanmp</td>\n",
       "      <td>2600</td>\n",
       "      <td>5.0</td>\n",
       "      <td>3.0</td>\n",
       "      <td>120.00</td>\n",
       "      <td>120.00</td>\n",
       "      <td>120.00</td>\n",
       "    </tr>\n",
       "    <tr>\n",
       "      <th>2</th>\n",
       "      <td>Built-up  Area</td>\n",
       "      <td>Ready To Move</td>\n",
       "      <td>Uttarahalli</td>\n",
       "      <td>3 BHK</td>\n",
       "      <td>NaN</td>\n",
       "      <td>1440</td>\n",
       "      <td>2.0</td>\n",
       "      <td>3.0</td>\n",
       "      <td>62.00</td>\n",
       "      <td>62.00</td>\n",
       "      <td>62.00</td>\n",
       "    </tr>\n",
       "    <tr>\n",
       "      <th>3</th>\n",
       "      <td>Super built-up  Area</td>\n",
       "      <td>Ready To Move</td>\n",
       "      <td>Lingadheeranahalli</td>\n",
       "      <td>3 BHK</td>\n",
       "      <td>Soiewre</td>\n",
       "      <td>1521</td>\n",
       "      <td>3.0</td>\n",
       "      <td>1.0</td>\n",
       "      <td>95.00</td>\n",
       "      <td>95.00</td>\n",
       "      <td>95.00</td>\n",
       "    </tr>\n",
       "    <tr>\n",
       "      <th>4</th>\n",
       "      <td>Super built-up  Area</td>\n",
       "      <td>Ready To Move</td>\n",
       "      <td>Kothanur</td>\n",
       "      <td>2 BHK</td>\n",
       "      <td>NaN</td>\n",
       "      <td>1200</td>\n",
       "      <td>2.0</td>\n",
       "      <td>1.0</td>\n",
       "      <td>51.00</td>\n",
       "      <td>51.00</td>\n",
       "      <td>51.00</td>\n",
       "    </tr>\n",
       "  </tbody>\n",
       "</table>\n",
       "</div>"
      ],
      "text/plain": [
       "              area_type   availability                  location       size  \\\n",
       "0  Super built-up  Area         19-Dec  Electronic City Phase II      2 BHK   \n",
       "1            Plot  Area  Ready To Move          Chikka Tirupathi  4 Bedroom   \n",
       "2        Built-up  Area  Ready To Move               Uttarahalli      3 BHK   \n",
       "3  Super built-up  Area  Ready To Move        Lingadheeranahalli      3 BHK   \n",
       "4  Super built-up  Area  Ready To Move                  Kothanur      2 BHK   \n",
       "\n",
       "   society total_sqft  bath  balcony   price  upd_price  price_cat  \n",
       "0  Coomee        1056   2.0      1.0   39.07      39.07      39.07  \n",
       "1  Theanmp       2600   5.0      3.0  120.00     120.00     120.00  \n",
       "2      NaN       1440   2.0      3.0   62.00      62.00      62.00  \n",
       "3  Soiewre       1521   3.0      1.0   95.00      95.00      95.00  \n",
       "4      NaN       1200   2.0      1.0   51.00      51.00      51.00  "
      ]
     },
     "execution_count": 15,
     "metadata": {},
     "output_type": "execute_result"
    }
   ],
   "source": [
    "house.head()"
   ]
  },
  {
   "cell_type": "code",
   "execution_count": 16,
   "id": "8ec63091",
   "metadata": {},
   "outputs": [
    {
     "data": {
      "text/plain": [
       "<AxesSubplot:>"
      ]
     },
     "execution_count": 16,
     "metadata": {},
     "output_type": "execute_result"
    },
    {
     "data": {
      "image/png": "[encoded data removed]",
      "text/plain": [
       "<Figure size 432x288 with 1 Axes>"
      ]
     },
     "metadata": {
      "needs_background": "light"
     },
     "output_type": "display_data"
    }
   ],
   "source": [
    "house['location'].value_counts().plot(kind='bar')"
   ]
  },
  {
   "cell_type": "code",
   "execution_count": 17,
   "id": "5c1f9df5",
   "metadata": {},
   "outputs": [
    {
     "data": {
      "text/plain": [
       "Super built-up  Area    8790\n",
       "Built-up  Area          2418\n",
       "Plot  Area              2025\n",
       "Carpet  Area              87\n",
       "Name: area_type, dtype: int64"
      ]
     },
     "execution_count": 17,
     "metadata": {},
     "output_type": "execute_result"
    }
   ],
   "source": [
    "house['area_type'].value_counts()"
   ]
  },
  {
   "cell_type": "code",
   "execution_count": 18,
   "id": "b1bf53d7",
   "metadata": {},
   "outputs": [
    {
     "data": {
      "text/plain": [
       "<AxesSubplot:>"
      ]
     },
     "execution_count": 18,
     "metadata": {},
     "output_type": "execute_result"
    },
    {
     "data": {
      "image/png": "[encoded data removed]",
      "text/plain": [
       "<Figure size 432x288 with 1 Axes>"
      ]
     },
     "metadata": {
      "needs_background": "light"
     },
     "output_type": "display_data"
    }
   ],
   "source": [
    "super_area=house[house['area_type']=='Super built-up  Area']\n",
    "super_area['price'].plot(kind='box')"
   ]
  },
  {
   "cell_type": "code",
   "execution_count": 19,
   "id": "8b35b4ec",
   "metadata": {},
   "outputs": [
    {
     "data": {
      "text/html": [
       "<div>\n",
       "<style scoped>\n",
       "    .dataframe tbody tr th:only-of-type {\n",
       "        vertical-align: middle;\n",
       "    }\n",
       "\n",
       "    .dataframe tbody tr th {\n",
       "        vertical-align: top;\n",
       "    }\n",
       "\n",
       "    .dataframe thead th {\n",
       "        text-align: right;\n",
       "    }\n",
       "</style>\n",
       "<table border=\"1\" class=\"dataframe\">\n",
       "  <thead>\n",
       "    <tr style=\"text-align: right;\">\n",
       "      <th></th>\n",
       "      <th>area_type</th>\n",
       "      <th>availability</th>\n",
       "      <th>location</th>\n",
       "      <th>size</th>\n",
       "      <th>society</th>\n",
       "      <th>total_sqft</th>\n",
       "      <th>bath</th>\n",
       "      <th>balcony</th>\n",
       "      <th>price</th>\n",
       "      <th>upd_price</th>\n",
       "      <th>price_cat</th>\n",
       "    </tr>\n",
       "  </thead>\n",
       "  <tbody>\n",
       "    <tr>\n",
       "      <th>1291</th>\n",
       "      <td>Super built-up  Area</td>\n",
       "      <td>Ready To Move</td>\n",
       "      <td>Dooravani Nagar</td>\n",
       "      <td>3 BHK</td>\n",
       "      <td>Puceswn</td>\n",
       "      <td>1596</td>\n",
       "      <td>3.0</td>\n",
       "      <td>1.0</td>\n",
       "      <td>105.0</td>\n",
       "      <td>105.0</td>\n",
       "      <td>105.0</td>\n",
       "    </tr>\n",
       "  </tbody>\n",
       "</table>\n",
       "</div>"
      ],
      "text/plain": [
       "                 area_type   availability         location   size  society  \\\n",
       "1291  Super built-up  Area  Ready To Move  Dooravani Nagar  3 BHK  Puceswn   \n",
       "\n",
       "     total_sqft  bath  balcony  price  upd_price  price_cat  \n",
       "1291       1596   3.0      1.0  105.0      105.0      105.0  "
      ]
     },
     "execution_count": 19,
     "metadata": {},
     "output_type": "execute_result"
    }
   ],
   "source": [
    "super_area.sample()"
   ]
  },
  {
   "cell_type": "code",
   "execution_count": 20,
   "id": "5ef8800b",
   "metadata": {},
   "outputs": [
    {
     "name": "stderr",
     "output_type": "stream",
     "text": [
      "C:\\Users\\Pradeep\\AppData\\Local\\Temp/ipykernel_13944/404650172.py:6: SettingWithCopyWarning: \n",
      "A value is trying to be set on a copy of a slice from a DataFrame.\n",
      "Try using .loc[row_indexer,col_indexer] = value instead\n",
      "\n",
      "See the caveats in the documentation: https://pandas.pydata.org/pandas-docs/stable/user_guide/indexing.html#returning-a-view-versus-a-copy\n",
      "  super_area['price_cat']=np.where(super_area['price_cat']>=ul1,ul1,np.where(super_area['price_cat']<=ll1,ll1,super_area['price_cat']))\n"
     ]
    }
   ],
   "source": [
    "q11=super_area['price_cat'].quantile(0.25)\n",
    "q31=super_area['price_cat'].quantile(0.75)\n",
    "iqr1=q31-q11\n",
    "ul1=q31+iqr1\n",
    "ll1=q11-iqr1\n",
    "super_area['price_cat']=np.where(super_area['price_cat']>=ul1,ul1,np.where(super_area['price_cat']<=ll1,ll1,super_area['price_cat']))"
   ]
  },
  {
   "cell_type": "code",
   "execution_count": 21,
   "id": "2685bf49",
   "metadata": {},
   "outputs": [
    {
     "data": {
      "text/plain": [
       "<AxesSubplot:>"
      ]
     },
     "execution_count": 21,
     "metadata": {},
     "output_type": "execute_result"
    },
    {
     "data": {
      "image/png": "[encoded data removed]",
      "text/plain": [
       "<Figure size 432x288 with 1 Axes>"
      ]
     },
     "metadata": {
      "needs_background": "light"
     },
     "output_type": "display_data"
    }
   ],
   "source": [
    "super_area['price_cat'].plot(kind='box')"
   ]
  },
  {
   "cell_type": "code",
   "execution_count": 22,
   "id": "1fa170e8",
   "metadata": {},
   "outputs": [
    {
     "data": {
      "text/plain": [
       "<AxesSubplot:>"
      ]
     },
     "execution_count": 22,
     "metadata": {},
     "output_type": "execute_result"
    },
    {
     "data": {
      "image/png": "[encoded data removed]",
      "text/plain": [
       "<Figure size 432x288 with 1 Axes>"
      ]
     },
     "metadata": {
      "needs_background": "light"
     },
     "output_type": "display_data"
    }
   ],
   "source": [
    "built_area=house[house['area_type']=='Built-up  Area']\n",
    "built_area['price'].plot(kind='box')"
   ]
  },
  {
   "cell_type": "code",
   "execution_count": 23,
   "id": "e584fae2",
   "metadata": {},
   "outputs": [
    {
     "name": "stderr",
     "output_type": "stream",
     "text": [
      "C:\\Users\\Pradeep\\AppData\\Local\\Temp/ipykernel_13944/1886029037.py:6: SettingWithCopyWarning: \n",
      "A value is trying to be set on a copy of a slice from a DataFrame.\n",
      "Try using .loc[row_indexer,col_indexer] = value instead\n",
      "\n",
      "See the caveats in the documentation: https://pandas.pydata.org/pandas-docs/stable/user_guide/indexing.html#returning-a-view-versus-a-copy\n",
      "  built_area['price_cat']=np.where(built_area['price_cat']>=ul2,ul2,np.where(built_area['price_cat']<=ll2,ll2,built_area['price_cat']))\n"
     ]
    }
   ],
   "source": [
    "q12=built_area['price_cat'].quantile(0.25)\n",
    "q32=built_area['price_cat'].quantile(0.75)\n",
    "iqr2=q32-q12\n",
    "ul2=q32+iqr2\n",
    "ll2=q12-iqr2\n",
    "built_area['price_cat']=np.where(built_area['price_cat']>=ul2,ul2,np.where(built_area['price_cat']<=ll2,ll2,built_area['price_cat']))"
   ]
  },
  {
   "cell_type": "code",
   "execution_count": 24,
   "id": "452f14ca",
   "metadata": {},
   "outputs": [
    {
     "data": {
      "text/plain": [
       "<AxesSubplot:>"
      ]
     },
     "execution_count": 24,
     "metadata": {},
     "output_type": "execute_result"
    },
    {
     "data": {
      "image/png": "[encoded data removed]",
      "text/plain": [
       "<Figure size 432x288 with 1 Axes>"
      ]
     },
     "metadata": {
      "needs_background": "light"
     },
     "output_type": "display_data"
    }
   ],
   "source": [
    "built_area['price_cat'].plot(kind='box')"
   ]
  },
  {
   "cell_type": "code",
   "execution_count": 25,
   "id": "9d8b6119",
   "metadata": {},
   "outputs": [
    {
     "data": {
      "text/plain": [
       "<AxesSubplot:>"
      ]
     },
     "execution_count": 25,
     "metadata": {},
     "output_type": "execute_result"
    },
    {
     "data": {
      "image/png": "[encoded data removed]",
      "text/plain": [
       "<Figure size 432x288 with 1 Axes>"
      ]
     },
     "metadata": {
      "needs_background": "light"
     },
     "output_type": "display_data"
    }
   ],
   "source": [
    "plot_area=house[house['area_type']=='Plot  Area']\n",
    "plot_area['price'].plot(kind='box')"
   ]
  },
  {
   "cell_type": "code",
   "execution_count": 26,
   "id": "eb1da22a",
   "metadata": {},
   "outputs": [
    {
     "name": "stderr",
     "output_type": "stream",
     "text": [
      "C:\\Users\\Pradeep\\AppData\\Local\\Temp/ipykernel_13944/2983602829.py:6: SettingWithCopyWarning: \n",
      "A value is trying to be set on a copy of a slice from a DataFrame.\n",
      "Try using .loc[row_indexer,col_indexer] = value instead\n",
      "\n",
      "See the caveats in the documentation: https://pandas.pydata.org/pandas-docs/stable/user_guide/indexing.html#returning-a-view-versus-a-copy\n",
      "  plot_area['price_cat']=np.where(plot_area['price_cat']>=ul3,ul3,np.where(plot_area['price_cat']<=ll3,ll3,plot_area['price_cat']))\n"
     ]
    }
   ],
   "source": [
    "q13=plot_area['price_cat'].quantile(0.25)\n",
    "q33=plot_area['price_cat'].quantile(0.75)\n",
    "iqr3=q33-q13\n",
    "ul3=q33+iqr3\n",
    "ll3=q13-iqr3\n",
    "plot_area['price_cat']=np.where(plot_area['price_cat']>=ul3,ul3,np.where(plot_area['price_cat']<=ll3,ll3,plot_area['price_cat']))"
   ]
  },
  {
   "cell_type": "code",
   "execution_count": 27,
   "id": "78e73951",
   "metadata": {},
   "outputs": [
    {
     "data": {
      "text/plain": [
       "<AxesSubplot:>"
      ]
     },
     "execution_count": 27,
     "metadata": {},
     "output_type": "execute_result"
    },
    {
     "data": {
      "image/png": "[encoded data removed]",
      "text/plain": [
       "<Figure size 432x288 with 1 Axes>"
      ]
     },
     "metadata": {
      "needs_background": "light"
     },
     "output_type": "display_data"
    }
   ],
   "source": [
    "plot_area['price_cat'].plot(kind='box')"
   ]
  },
  {
   "cell_type": "code",
   "execution_count": 28,
   "id": "0bfaa111",
   "metadata": {},
   "outputs": [
    {
     "data": {
      "text/plain": [
       "<AxesSubplot:>"
      ]
     },
     "execution_count": 28,
     "metadata": {},
     "output_type": "execute_result"
    },
    {
     "data": {
      "image/png": "[encoded data removed]",
      "text/plain": [
       "<Figure size 432x288 with 1 Axes>"
      ]
     },
     "metadata": {
      "needs_background": "light"
     },
     "output_type": "display_data"
    }
   ],
   "source": [
    "carpet_area=house[house['area_type']=='Carpet  Area']\n",
    "carpet_area['price'].plot(kind='box')"
   ]
  },
  {
   "cell_type": "code",
   "execution_count": 29,
   "id": "0ef5d42d",
   "metadata": {},
   "outputs": [
    {
     "name": "stderr",
     "output_type": "stream",
     "text": [
      "C:\\Users\\Pradeep\\AppData\\Local\\Temp/ipykernel_13944/1176826083.py:6: SettingWithCopyWarning: \n",
      "A value is trying to be set on a copy of a slice from a DataFrame.\n",
      "Try using .loc[row_indexer,col_indexer] = value instead\n",
      "\n",
      "See the caveats in the documentation: https://pandas.pydata.org/pandas-docs/stable/user_guide/indexing.html#returning-a-view-versus-a-copy\n",
      "  carpet_area['price_cat']=np.where(carpet_area['price_cat']>=ul4,ul4,np.where(carpet_area['price_cat']<=ll4,ll4,carpet_area['price_cat']))\n"
     ]
    }
   ],
   "source": [
    "q14=carpet_area['price_cat'].quantile(0.25)\n",
    "q34=carpet_area['price_cat'].quantile(0.75)\n",
    "iqr4=q34-q14\n",
    "ul4=q34+iqr4\n",
    "ll4=q14-iqr4\n",
    "carpet_area['price_cat']=np.where(carpet_area['price_cat']>=ul4,ul4,np.where(carpet_area['price_cat']<=ll4,ll4,carpet_area['price_cat']))"
   ]
  },
  {
   "cell_type": "code",
   "execution_count": 30,
   "id": "cce423e9",
   "metadata": {},
   "outputs": [
    {
     "data": {
      "text/plain": [
       "<AxesSubplot:>"
      ]
     },
     "execution_count": 30,
     "metadata": {},
     "output_type": "execute_result"
    },
    {
     "data": {
      "image/png": "[encoded data removed]",
      "text/plain": [
       "<Figure size 432x288 with 1 Axes>"
      ]
     },
     "metadata": {
      "needs_background": "light"
     },
     "output_type": "display_data"
    }
   ],
   "source": [
    "carpet_area['price_cat'].plot(kind='box')"
   ]
  },
  {
   "cell_type": "code",
   "execution_count": 31,
   "id": "1690e74d",
   "metadata": {},
   "outputs": [
    {
     "data": {
      "text/plain": [
       "(13320, 11)"
      ]
     },
     "execution_count": 31,
     "metadata": {},
     "output_type": "execute_result"
    }
   ],
   "source": [
    "house.shape"
   ]
  },
  {
   "cell_type": "code",
   "execution_count": 32,
   "id": "77754bea",
   "metadata": {},
   "outputs": [
    {
     "name": "stdout",
     "output_type": "stream",
     "text": [
      "(8790, 11) (2418, 11) (2025, 11) (87, 11)\n"
     ]
    }
   ],
   "source": [
    "#super_area\n",
    "#built_are\n",
    "#plot_area\n",
    "#carpet_area\n",
    "super_area.shape\n",
    "built_area.shape\n",
    "plot_area.shape\n",
    "carpet_area.shape\n",
    "print(super_area.shape,built_area.shape,plot_area.shape,carpet_area.shape)"
   ]
  },
  {
   "cell_type": "code",
   "execution_count": 33,
   "id": "6fb98fc2",
   "metadata": {},
   "outputs": [],
   "source": [
    "temp1=super_area.append(built_area)"
   ]
  },
  {
   "cell_type": "code",
   "execution_count": 34,
   "id": "0426d5c6",
   "metadata": {},
   "outputs": [],
   "source": [
    "temp2=temp1.append(plot_area)"
   ]
  },
  {
   "cell_type": "code",
   "execution_count": 35,
   "id": "47458919",
   "metadata": {},
   "outputs": [],
   "source": [
    "final_house=temp2.append(carpet_area)"
   ]
  },
  {
   "cell_type": "code",
   "execution_count": null,
   "id": "8e357a22",
   "metadata": {},
   "outputs": [],
   "source": []
  },
  {
   "cell_type": "code",
   "execution_count": 36,
   "id": "3c6b3a87",
   "metadata": {},
   "outputs": [
    {
     "data": {
      "text/plain": [
       "Super built-up  Area    8790\n",
       "Built-up  Area          2418\n",
       "Plot  Area              2025\n",
       "Carpet  Area              87\n",
       "Name: area_type, dtype: int64"
      ]
     },
     "execution_count": 36,
     "metadata": {},
     "output_type": "execute_result"
    }
   ],
   "source": [
    "house['area_type'].value_counts()"
   ]
  },
  {
   "cell_type": "code",
   "execution_count": 37,
   "id": "50e154c0",
   "metadata": {},
   "outputs": [
    {
     "data": {
      "image/png": "[encoded data removed]",
      "text/plain": [
       "<Figure size 720x432 with 1 Axes>"
      ]
     },
     "metadata": {
      "needs_background": "light"
     },
     "output_type": "display_data"
    }
   ],
   "source": [
    "plt.figure(figsize=(10,6))\n",
    "sns.kdeplot(house[house['area_type']=='Super built-up  Area']['price'],label='Super',color='r')\n",
    "sns.kdeplot(house[house['area_type']=='Built-up  Area']['price'],label='Built',color='k')\n",
    "sns.kdeplot(house[house['area_type']=='Plot  Area']['price'],label='Plot',color='m')\n",
    "sns.kdeplot(house[house['area_type']=='Carpet  Area']['price'],label='Carpet',color='g')\n",
    "plt.legend()\n",
    "plt.show()"
   ]
  },
  {
   "cell_type": "code",
   "execution_count": 38,
   "id": "579faf3d",
   "metadata": {},
   "outputs": [
    {
     "data": {
      "image/png": "[encoded data removed]",
      "text/plain": [
       "<Figure size 720x432 with 1 Axes>"
      ]
     },
     "metadata": {
      "needs_background": "light"
     },
     "output_type": "display_data"
    }
   ],
   "source": [
    "plt.figure(figsize=(10,6))\n",
    "sns.kdeplot(house[house['area_type']=='Super built-up  Area']['upd_price'],label='Super',color='r')\n",
    "sns.kdeplot(house[house['area_type']=='Built-up  Area']['upd_price'],label='Built',color='k')\n",
    "sns.kdeplot(house[house['area_type']=='Plot  Area']['upd_price'],label='Plot',color='m')\n",
    "sns.kdeplot(house[house['area_type']=='Carpet  Area']['upd_price'],label='Carpet',color='g')\n",
    "plt.legend()\n",
    "plt.show()"
   ]
  },
  {
   "cell_type": "code",
   "execution_count": 39,
   "id": "3522c225",
   "metadata": {},
   "outputs": [
    {
     "data": {
      "image/png": "[encoded data removed]",
      "text/plain": [
       "<Figure size 720x432 with 1 Axes>"
      ]
     },
     "metadata": {
      "needs_background": "light"
     },
     "output_type": "display_data"
    }
   ],
   "source": [
    "plt.figure(figsize=(10,6))\n",
    "sns.kdeplot(final_house[final_house['area_type']=='Super built-up  Area']['price_cat'],label='Super',color='r')\n",
    "sns.kdeplot(final_house[final_house['area_type']=='Built-up  Area']['price_cat'],label='Built',color='k')\n",
    "sns.kdeplot(final_house[final_house['area_type']=='Plot  Area']['price_cat'],label='Plot',color='m')\n",
    "sns.kdeplot(final_house[final_house['area_type']=='Carpet  Area']['price_cat'],label='Carpet',color='g')\n",
    "plt.legend()\n",
    "plt.show()"
   ]
  },
  {
   "cell_type": "code",
   "execution_count": 40,
   "id": "6e69ea0b",
   "metadata": {
    "scrolled": true
   },
   "outputs": [
    {
     "data": {
      "text/plain": [
       "2.282347294390602"
      ]
     },
     "execution_count": 40,
     "metadata": {},
     "output_type": "execute_result"
    }
   ],
   "source": [
    "final_house['price_cat'].skew()"
   ]
  },
  {
   "cell_type": "code",
   "execution_count": 41,
   "id": "89ef67bc",
   "metadata": {},
   "outputs": [
    {
     "data": {
      "text/plain": [
       "<AxesSubplot:>"
      ]
     },
     "execution_count": 41,
     "metadata": {},
     "output_type": "execute_result"
    },
    {
     "data": {
      "image/png": "[encoded data removed]",
      "text/plain": [
       "<Figure size 432x288 with 1 Axes>"
      ]
     },
     "metadata": {
      "needs_background": "light"
     },
     "output_type": "display_data"
    }
   ],
   "source": [
    "final_house['upd_price'].plot(kind='box')"
   ]
  },
  {
   "cell_type": "code",
   "execution_count": 42,
   "id": "27cea139",
   "metadata": {},
   "outputs": [
    {
     "data": {
      "text/html": [
       "<div>\n",
       "<style scoped>\n",
       "    .dataframe tbody tr th:only-of-type {\n",
       "        vertical-align: middle;\n",
       "    }\n",
       "\n",
       "    .dataframe tbody tr th {\n",
       "        vertical-align: top;\n",
       "    }\n",
       "\n",
       "    .dataframe thead th {\n",
       "        text-align: right;\n",
       "    }\n",
       "</style>\n",
       "<table border=\"1\" class=\"dataframe\">\n",
       "  <thead>\n",
       "    <tr style=\"text-align: right;\">\n",
       "      <th></th>\n",
       "      <th>bath</th>\n",
       "      <th>balcony</th>\n",
       "      <th>price</th>\n",
       "      <th>upd_price</th>\n",
       "      <th>price_cat</th>\n",
       "    </tr>\n",
       "  </thead>\n",
       "  <tbody>\n",
       "    <tr>\n",
       "      <th>count</th>\n",
       "      <td>13247.000000</td>\n",
       "      <td>12711.000000</td>\n",
       "      <td>13320.000000</td>\n",
       "      <td>13320.000000</td>\n",
       "      <td>13320.000000</td>\n",
       "    </tr>\n",
       "    <tr>\n",
       "      <th>mean</th>\n",
       "      <td>2.692610</td>\n",
       "      <td>1.584376</td>\n",
       "      <td>112.565627</td>\n",
       "      <td>89.491978</td>\n",
       "      <td>93.144929</td>\n",
       "    </tr>\n",
       "    <tr>\n",
       "      <th>std</th>\n",
       "      <td>1.341458</td>\n",
       "      <td>0.817263</td>\n",
       "      <td>148.971674</td>\n",
       "      <td>51.752077</td>\n",
       "      <td>67.128217</td>\n",
       "    </tr>\n",
       "    <tr>\n",
       "      <th>min</th>\n",
       "      <td>1.000000</td>\n",
       "      <td>0.000000</td>\n",
       "      <td>8.000000</td>\n",
       "      <td>8.000000</td>\n",
       "      <td>8.000000</td>\n",
       "    </tr>\n",
       "    <tr>\n",
       "      <th>25%</th>\n",
       "      <td>2.000000</td>\n",
       "      <td>1.000000</td>\n",
       "      <td>50.000000</td>\n",
       "      <td>50.000000</td>\n",
       "      <td>50.000000</td>\n",
       "    </tr>\n",
       "    <tr>\n",
       "      <th>50%</th>\n",
       "      <td>2.000000</td>\n",
       "      <td>2.000000</td>\n",
       "      <td>72.000000</td>\n",
       "      <td>72.000000</td>\n",
       "      <td>72.000000</td>\n",
       "    </tr>\n",
       "    <tr>\n",
       "      <th>75%</th>\n",
       "      <td>3.000000</td>\n",
       "      <td>2.000000</td>\n",
       "      <td>120.000000</td>\n",
       "      <td>120.000000</td>\n",
       "      <td>120.000000</td>\n",
       "    </tr>\n",
       "    <tr>\n",
       "      <th>max</th>\n",
       "      <td>40.000000</td>\n",
       "      <td>3.000000</td>\n",
       "      <td>3600.000000</td>\n",
       "      <td>190.000000</td>\n",
       "      <td>395.000000</td>\n",
       "    </tr>\n",
       "  </tbody>\n",
       "</table>\n",
       "</div>"
      ],
      "text/plain": [
       "               bath       balcony         price     upd_price     price_cat\n",
       "count  13247.000000  12711.000000  13320.000000  13320.000000  13320.000000\n",
       "mean       2.692610      1.584376    112.565627     89.491978     93.144929\n",
       "std        1.341458      0.817263    148.971674     51.752077     67.128217\n",
       "min        1.000000      0.000000      8.000000      8.000000      8.000000\n",
       "25%        2.000000      1.000000     50.000000     50.000000     50.000000\n",
       "50%        2.000000      2.000000     72.000000     72.000000     72.000000\n",
       "75%        3.000000      2.000000    120.000000    120.000000    120.000000\n",
       "max       40.000000      3.000000   3600.000000    190.000000    395.000000"
      ]
     },
     "execution_count": 42,
     "metadata": {},
     "output_type": "execute_result"
    }
   ],
   "source": [
    "final_house.describe()"
   ]
  },
  {
   "cell_type": "code",
   "execution_count": 43,
   "id": "1d7f8116",
   "metadata": {},
   "outputs": [
    {
     "data": {
      "text/html": [
       "<div>\n",
       "<style scoped>\n",
       "    .dataframe tbody tr th:only-of-type {\n",
       "        vertical-align: middle;\n",
       "    }\n",
       "\n",
       "    .dataframe tbody tr th {\n",
       "        vertical-align: top;\n",
       "    }\n",
       "\n",
       "    .dataframe thead th {\n",
       "        text-align: right;\n",
       "    }\n",
       "</style>\n",
       "<table border=\"1\" class=\"dataframe\">\n",
       "  <thead>\n",
       "    <tr style=\"text-align: right;\">\n",
       "      <th></th>\n",
       "      <th>area_type</th>\n",
       "      <th>availability</th>\n",
       "      <th>location</th>\n",
       "      <th>size</th>\n",
       "      <th>society</th>\n",
       "      <th>total_sqft</th>\n",
       "      <th>bath</th>\n",
       "      <th>balcony</th>\n",
       "      <th>price</th>\n",
       "      <th>upd_price</th>\n",
       "      <th>price_cat</th>\n",
       "    </tr>\n",
       "  </thead>\n",
       "  <tbody>\n",
       "    <tr>\n",
       "      <th>2107</th>\n",
       "      <td>Built-up  Area</td>\n",
       "      <td>18-Aug</td>\n",
       "      <td>Bommasandra Industrial Area</td>\n",
       "      <td>3 BHK</td>\n",
       "      <td>NaN</td>\n",
       "      <td>1320</td>\n",
       "      <td>2.0</td>\n",
       "      <td>1.0</td>\n",
       "      <td>38.12</td>\n",
       "      <td>38.12</td>\n",
       "      <td>38.12</td>\n",
       "    </tr>\n",
       "    <tr>\n",
       "      <th>3226</th>\n",
       "      <td>Super built-up  Area</td>\n",
       "      <td>19-Aug</td>\n",
       "      <td>Sarjapura - Attibele Road</td>\n",
       "      <td>2 BHK</td>\n",
       "      <td>NaN</td>\n",
       "      <td>829</td>\n",
       "      <td>2.0</td>\n",
       "      <td>1.0</td>\n",
       "      <td>22.80</td>\n",
       "      <td>22.80</td>\n",
       "      <td>22.80</td>\n",
       "    </tr>\n",
       "    <tr>\n",
       "      <th>12032</th>\n",
       "      <td>Plot  Area</td>\n",
       "      <td>Ready To Move</td>\n",
       "      <td>Xavier Layout</td>\n",
       "      <td>3 Bedroom</td>\n",
       "      <td>NaN</td>\n",
       "      <td>1524</td>\n",
       "      <td>4.0</td>\n",
       "      <td>2.0</td>\n",
       "      <td>400.00</td>\n",
       "      <td>190.00</td>\n",
       "      <td>395.00</td>\n",
       "    </tr>\n",
       "    <tr>\n",
       "      <th>12807</th>\n",
       "      <td>Super built-up  Area</td>\n",
       "      <td>18-Apr</td>\n",
       "      <td>Hebbal</td>\n",
       "      <td>3 BHK</td>\n",
       "      <td>Arcia S</td>\n",
       "      <td>1430</td>\n",
       "      <td>3.0</td>\n",
       "      <td>1.0</td>\n",
       "      <td>85.00</td>\n",
       "      <td>85.00</td>\n",
       "      <td>85.00</td>\n",
       "    </tr>\n",
       "    <tr>\n",
       "      <th>9683</th>\n",
       "      <td>Plot  Area</td>\n",
       "      <td>18-Apr</td>\n",
       "      <td>tc.palya</td>\n",
       "      <td>3 Bedroom</td>\n",
       "      <td>NaN</td>\n",
       "      <td>1400</td>\n",
       "      <td>2.0</td>\n",
       "      <td>1.0</td>\n",
       "      <td>78.00</td>\n",
       "      <td>78.00</td>\n",
       "      <td>78.00</td>\n",
       "    </tr>\n",
       "    <tr>\n",
       "      <th>7308</th>\n",
       "      <td>Super built-up  Area</td>\n",
       "      <td>19-Dec</td>\n",
       "      <td>Chandapura</td>\n",
       "      <td>3 BHK</td>\n",
       "      <td>SuVue S</td>\n",
       "      <td>1110</td>\n",
       "      <td>2.0</td>\n",
       "      <td>2.0</td>\n",
       "      <td>29.97</td>\n",
       "      <td>29.97</td>\n",
       "      <td>29.97</td>\n",
       "    </tr>\n",
       "    <tr>\n",
       "      <th>6020</th>\n",
       "      <td>Super built-up  Area</td>\n",
       "      <td>Ready To Move</td>\n",
       "      <td>Mahadevpura</td>\n",
       "      <td>2 BHK</td>\n",
       "      <td>3Codeli</td>\n",
       "      <td>1532</td>\n",
       "      <td>2.0</td>\n",
       "      <td>2.0</td>\n",
       "      <td>62.00</td>\n",
       "      <td>62.00</td>\n",
       "      <td>62.00</td>\n",
       "    </tr>\n",
       "    <tr>\n",
       "      <th>4272</th>\n",
       "      <td>Built-up  Area</td>\n",
       "      <td>Ready To Move</td>\n",
       "      <td>Poorna Pragna Layout</td>\n",
       "      <td>2 BHK</td>\n",
       "      <td>Pathira</td>\n",
       "      <td>965</td>\n",
       "      <td>2.0</td>\n",
       "      <td>2.0</td>\n",
       "      <td>48.00</td>\n",
       "      <td>48.00</td>\n",
       "      <td>48.00</td>\n",
       "    </tr>\n",
       "    <tr>\n",
       "      <th>3489</th>\n",
       "      <td>Plot  Area</td>\n",
       "      <td>Ready To Move</td>\n",
       "      <td>Mahalakshmi Layout</td>\n",
       "      <td>4 Bedroom</td>\n",
       "      <td>NaN</td>\n",
       "      <td>1575</td>\n",
       "      <td>5.0</td>\n",
       "      <td>1.0</td>\n",
       "      <td>158.00</td>\n",
       "      <td>158.00</td>\n",
       "      <td>158.00</td>\n",
       "    </tr>\n",
       "    <tr>\n",
       "      <th>9945</th>\n",
       "      <td>Super built-up  Area</td>\n",
       "      <td>Ready To Move</td>\n",
       "      <td>Vasanthapura</td>\n",
       "      <td>2 BHK</td>\n",
       "      <td>NaN</td>\n",
       "      <td>978</td>\n",
       "      <td>2.0</td>\n",
       "      <td>1.0</td>\n",
       "      <td>34.22</td>\n",
       "      <td>34.22</td>\n",
       "      <td>34.22</td>\n",
       "    </tr>\n",
       "  </tbody>\n",
       "</table>\n",
       "</div>"
      ],
      "text/plain": [
       "                  area_type   availability                     location  \\\n",
       "2107         Built-up  Area         18-Aug  Bommasandra Industrial Area   \n",
       "3226   Super built-up  Area         19-Aug    Sarjapura - Attibele Road   \n",
       "12032            Plot  Area  Ready To Move                Xavier Layout   \n",
       "12807  Super built-up  Area         18-Apr                       Hebbal   \n",
       "9683             Plot  Area         18-Apr                     tc.palya   \n",
       "7308   Super built-up  Area         19-Dec                   Chandapura   \n",
       "6020   Super built-up  Area  Ready To Move                  Mahadevpura   \n",
       "4272         Built-up  Area  Ready To Move         Poorna Pragna Layout   \n",
       "3489             Plot  Area  Ready To Move           Mahalakshmi Layout   \n",
       "9945   Super built-up  Area  Ready To Move                 Vasanthapura   \n",
       "\n",
       "            size  society total_sqft  bath  balcony   price  upd_price  \\\n",
       "2107       3 BHK      NaN       1320   2.0      1.0   38.12      38.12   \n",
       "3226       2 BHK      NaN        829   2.0      1.0   22.80      22.80   \n",
       "12032  3 Bedroom      NaN       1524   4.0      2.0  400.00     190.00   \n",
       "12807      3 BHK  Arcia S       1430   3.0      1.0   85.00      85.00   \n",
       "9683   3 Bedroom      NaN       1400   2.0      1.0   78.00      78.00   \n",
       "7308       3 BHK  SuVue S       1110   2.0      2.0   29.97      29.97   \n",
       "6020       2 BHK  3Codeli       1532   2.0      2.0   62.00      62.00   \n",
       "4272       2 BHK  Pathira        965   2.0      2.0   48.00      48.00   \n",
       "3489   4 Bedroom      NaN       1575   5.0      1.0  158.00     158.00   \n",
       "9945       2 BHK      NaN        978   2.0      1.0   34.22      34.22   \n",
       "\n",
       "       price_cat  \n",
       "2107       38.12  \n",
       "3226       22.80  \n",
       "12032     395.00  \n",
       "12807      85.00  \n",
       "9683       78.00  \n",
       "7308       29.97  \n",
       "6020       62.00  \n",
       "4272       48.00  \n",
       "3489      158.00  \n",
       "9945       34.22  "
      ]
     },
     "execution_count": 43,
     "metadata": {},
     "output_type": "execute_result"
    }
   ],
   "source": [
    "final_house.sample(10)"
   ]
  },
  {
   "cell_type": "code",
   "execution_count": 44,
   "id": "26a2c6c1",
   "metadata": {},
   "outputs": [
    {
     "data": {
      "text/plain": [
       "<AxesSubplot:xlabel='area_type', ylabel='upd_price'>"
      ]
     },
     "execution_count": 44,
     "metadata": {},
     "output_type": "execute_result"
    },
    {
     "data": {
      "image/png": "[encoded data removed]",
      "text/plain": [
       "<Figure size 432x288 with 1 Axes>"
      ]
     },
     "metadata": {
      "needs_background": "light"
     },
     "output_type": "display_data"
    }
   ],
   "source": [
    "sns.barplot(x=final_house['area_type'],y=final_house['upd_price'])"
   ]
  },
  {
   "cell_type": "code",
   "execution_count": 45,
   "id": "859d2517",
   "metadata": {
    "scrolled": true
   },
   "outputs": [],
   "source": [
    "final_house['availability']=final_house['availability'].str.extract('([A-Z][a-z]*)')"
   ]
  },
  {
   "cell_type": "code",
   "execution_count": 46,
   "id": "187e69de",
   "metadata": {},
   "outputs": [
    {
     "data": {
      "text/plain": [
       "<AxesSubplot:xlabel='availability', ylabel='upd_price'>"
      ]
     },
     "execution_count": 46,
     "metadata": {},
     "output_type": "execute_result"
    },
    {
     "data": {
      "image/png": "[encoded data removed]",
      "text/plain": [
       "<Figure size 432x288 with 1 Axes>"
      ]
     },
     "metadata": {
      "needs_background": "light"
     },
     "output_type": "display_data"
    }
   ],
   "source": [
    "sns.barplot(x=final_house['availability'],y=final_house['upd_price'])"
   ]
  },
  {
   "cell_type": "code",
   "execution_count": 47,
   "id": "0d0ddf46",
   "metadata": {},
   "outputs": [
    {
     "data": {
      "text/plain": [
       "area_type          0\n",
       "availability       0\n",
       "location           1\n",
       "size              16\n",
       "society         5502\n",
       "total_sqft         0\n",
       "bath              73\n",
       "balcony          609\n",
       "price              0\n",
       "upd_price          0\n",
       "price_cat          0\n",
       "dtype: int64"
      ]
     },
     "execution_count": 47,
     "metadata": {},
     "output_type": "execute_result"
    }
   ],
   "source": [
    "final_house.isnull().sum()"
   ]
  },
  {
   "cell_type": "code",
   "execution_count": null,
   "id": "78c5fbbe",
   "metadata": {},
   "outputs": [],
   "source": []
  },
  {
   "cell_type": "code",
   "execution_count": 48,
   "id": "b39a0171",
   "metadata": {},
   "outputs": [
    {
     "data": {
      "text/plain": [
       "array(['Dec', 'Ready', 'May', 'Feb', 'Nov', 'Oct', 'Sep', 'Mar', 'Apr',\n",
       "       'Aug', 'Jun', 'Jan', 'Jul', 'Immediate'], dtype=object)"
      ]
     },
     "execution_count": 48,
     "metadata": {},
     "output_type": "execute_result"
    }
   ],
   "source": [
    "final_house['availability'].unique()"
   ]
  },
  {
   "cell_type": "code",
   "execution_count": 49,
   "id": "16484177",
   "metadata": {},
   "outputs": [],
   "source": [
    "def category(text):\n",
    "    if text=='Jan' or text=='Feb' or text=='Mar' or text=='Apr':\n",
    "        return 'cat1'\n",
    "    elif text=='May' or text=='Jun' or text=='Jul' or text=='Aug':\n",
    "        return 'cat2'\n",
    "    elif text=='Sep' or text=='Oct' or text=='Nov' or text=='Dec':\n",
    "        return 'cat3'\n",
    "    else:\n",
    "        return 'cat4'"
   ]
  },
  {
   "cell_type": "code",
   "execution_count": 50,
   "id": "8415ef68",
   "metadata": {},
   "outputs": [],
   "source": [
    "final_house['temp_avail']=final_house['availability'].apply(category)"
   ]
  },
  {
   "cell_type": "code",
   "execution_count": 51,
   "id": "730dd351",
   "metadata": {},
   "outputs": [
    {
     "data": {
      "text/plain": [
       "<AxesSubplot:xlabel='temp_avail', ylabel='upd_price'>"
      ]
     },
     "execution_count": 51,
     "metadata": {},
     "output_type": "execute_result"
    },
    {
     "data": {
      "image/png": "[encoded data removed]",
      "text/plain": [
       "<Figure size 1080x432 with 2 Axes>"
      ]
     },
     "metadata": {
      "needs_background": "light"
     },
     "output_type": "display_data"
    }
   ],
   "source": [
    "plt.figure(figsize=(15,6))\n",
    "plt.subplot(121)\n",
    "sns.barplot(x=final_house['temp_avail'],y=final_house['price'])\n",
    "plt.subplot(122)\n",
    "sns.barplot(x=final_house['temp_avail'],y=final_house['upd_price'])"
   ]
  },
  {
   "cell_type": "code",
   "execution_count": 52,
   "id": "9066b5ba",
   "metadata": {},
   "outputs": [],
   "source": [
    "final_house.drop(['availability','price_cat'],axis=1,inplace=True)"
   ]
  },
  {
   "cell_type": "code",
   "execution_count": 53,
   "id": "2493d856",
   "metadata": {},
   "outputs": [
    {
     "data": {
      "text/html": [
       "<div>\n",
       "<style scoped>\n",
       "    .dataframe tbody tr th:only-of-type {\n",
       "        vertical-align: middle;\n",
       "    }\n",
       "\n",
       "    .dataframe tbody tr th {\n",
       "        vertical-align: top;\n",
       "    }\n",
       "\n",
       "    .dataframe thead th {\n",
       "        text-align: right;\n",
       "    }\n",
       "</style>\n",
       "<table border=\"1\" class=\"dataframe\">\n",
       "  <thead>\n",
       "    <tr style=\"text-align: right;\">\n",
       "      <th></th>\n",
       "      <th>area_type</th>\n",
       "      <th>location</th>\n",
       "      <th>size</th>\n",
       "      <th>society</th>\n",
       "      <th>total_sqft</th>\n",
       "      <th>bath</th>\n",
       "      <th>balcony</th>\n",
       "      <th>price</th>\n",
       "      <th>upd_price</th>\n",
       "      <th>temp_avail</th>\n",
       "    </tr>\n",
       "  </thead>\n",
       "  <tbody>\n",
       "    <tr>\n",
       "      <th>0</th>\n",
       "      <td>Super built-up  Area</td>\n",
       "      <td>Electronic City Phase II</td>\n",
       "      <td>2 BHK</td>\n",
       "      <td>Coomee</td>\n",
       "      <td>1056</td>\n",
       "      <td>2.0</td>\n",
       "      <td>1.0</td>\n",
       "      <td>39.07</td>\n",
       "      <td>39.07</td>\n",
       "      <td>cat3</td>\n",
       "    </tr>\n",
       "    <tr>\n",
       "      <th>3</th>\n",
       "      <td>Super built-up  Area</td>\n",
       "      <td>Lingadheeranahalli</td>\n",
       "      <td>3 BHK</td>\n",
       "      <td>Soiewre</td>\n",
       "      <td>1521</td>\n",
       "      <td>3.0</td>\n",
       "      <td>1.0</td>\n",
       "      <td>95.00</td>\n",
       "      <td>95.00</td>\n",
       "      <td>cat4</td>\n",
       "    </tr>\n",
       "    <tr>\n",
       "      <th>4</th>\n",
       "      <td>Super built-up  Area</td>\n",
       "      <td>Kothanur</td>\n",
       "      <td>2 BHK</td>\n",
       "      <td>NaN</td>\n",
       "      <td>1200</td>\n",
       "      <td>2.0</td>\n",
       "      <td>1.0</td>\n",
       "      <td>51.00</td>\n",
       "      <td>51.00</td>\n",
       "      <td>cat4</td>\n",
       "    </tr>\n",
       "    <tr>\n",
       "      <th>5</th>\n",
       "      <td>Super built-up  Area</td>\n",
       "      <td>Whitefield</td>\n",
       "      <td>2 BHK</td>\n",
       "      <td>DuenaTa</td>\n",
       "      <td>1170</td>\n",
       "      <td>2.0</td>\n",
       "      <td>1.0</td>\n",
       "      <td>38.00</td>\n",
       "      <td>38.00</td>\n",
       "      <td>cat4</td>\n",
       "    </tr>\n",
       "    <tr>\n",
       "      <th>6</th>\n",
       "      <td>Super built-up  Area</td>\n",
       "      <td>Old Airport Road</td>\n",
       "      <td>4 BHK</td>\n",
       "      <td>Jaades</td>\n",
       "      <td>2732</td>\n",
       "      <td>4.0</td>\n",
       "      <td>NaN</td>\n",
       "      <td>204.00</td>\n",
       "      <td>190.00</td>\n",
       "      <td>cat2</td>\n",
       "    </tr>\n",
       "  </tbody>\n",
       "</table>\n",
       "</div>"
      ],
      "text/plain": [
       "              area_type                  location   size  society total_sqft  \\\n",
       "0  Super built-up  Area  Electronic City Phase II  2 BHK  Coomee        1056   \n",
       "3  Super built-up  Area        Lingadheeranahalli  3 BHK  Soiewre       1521   \n",
       "4  Super built-up  Area                  Kothanur  2 BHK      NaN       1200   \n",
       "5  Super built-up  Area                Whitefield  2 BHK  DuenaTa       1170   \n",
       "6  Super built-up  Area          Old Airport Road  4 BHK  Jaades        2732   \n",
       "\n",
       "   bath  balcony   price  upd_price temp_avail  \n",
       "0   2.0      1.0   39.07      39.07       cat3  \n",
       "3   3.0      1.0   95.00      95.00       cat4  \n",
       "4   2.0      1.0   51.00      51.00       cat4  \n",
       "5   2.0      1.0   38.00      38.00       cat4  \n",
       "6   4.0      NaN  204.00     190.00       cat2  "
      ]
     },
     "execution_count": 53,
     "metadata": {},
     "output_type": "execute_result"
    }
   ],
   "source": [
    "final_house.head()"
   ]
  },
  {
   "cell_type": "code",
   "execution_count": 54,
   "id": "7167cadc",
   "metadata": {
    "scrolled": false
   },
   "outputs": [
    {
     "data": {
      "text/plain": [
       "array(['Electronic City Phase II', 'Lingadheeranahalli', 'Kothanur', ...,\n",
       "       'Iggalur', 'K R C kothanur', 'Hommadevanahalli'], dtype=object)"
      ]
     },
     "execution_count": 54,
     "metadata": {},
     "output_type": "execute_result"
    }
   ],
   "source": [
    "final_house['location'].unique()"
   ]
  },
  {
   "cell_type": "code",
   "execution_count": 55,
   "id": "56e408ec",
   "metadata": {
    "scrolled": true
   },
   "outputs": [
    {
     "data": {
      "text/plain": [
       "1305"
      ]
     },
     "execution_count": 55,
     "metadata": {},
     "output_type": "execute_result"
    }
   ],
   "source": [
    "final_house['location'].nunique()"
   ]
  },
  {
   "cell_type": "code",
   "execution_count": 56,
   "id": "f198679e",
   "metadata": {},
   "outputs": [],
   "source": [
    "final_house['location']=final_house['location'].fillna(final_house['location'].mode())"
   ]
  },
  {
   "cell_type": "code",
   "execution_count": 57,
   "id": "2a485ddb",
   "metadata": {},
   "outputs": [],
   "source": [
    "#cat1 less than 180,x\n",
    "#cat 2 180-360,y\n",
    "#cat3 360+,z\n"
   ]
  },
  {
   "cell_type": "code",
   "execution_count": 58,
   "id": "5a620f53",
   "metadata": {},
   "outputs": [
    {
     "data": {
      "text/plain": [
       "1298"
      ]
     },
     "execution_count": 58,
     "metadata": {},
     "output_type": "execute_result"
    }
   ],
   "source": [
    "x=final_house['location'].value_counts()<180\n",
    "x=list(x[x].keys())\n",
    "len(x)"
   ]
  },
  {
   "cell_type": "code",
   "execution_count": 59,
   "id": "3cc9ef74",
   "metadata": {},
   "outputs": [
    {
     "data": {
      "text/plain": [
       "['Electronic City',\n",
       " 'Kanakpura Road',\n",
       " 'Thanisandra',\n",
       " 'Yelahanka',\n",
       " 'Uttarahalli']"
      ]
     },
     "execution_count": 59,
     "metadata": {},
     "output_type": "execute_result"
    }
   ],
   "source": [
    "y=((final_house['location'].value_counts()>180) & (final_house['location'].value_counts()<360))\n",
    "y=list(y[y].keys())\n",
    "y"
   ]
  },
  {
   "cell_type": "code",
   "execution_count": 60,
   "id": "ac398366",
   "metadata": {},
   "outputs": [
    {
     "data": {
      "text/plain": [
       "['Whitefield', 'Sarjapur  Road']"
      ]
     },
     "execution_count": 60,
     "metadata": {},
     "output_type": "execute_result"
    }
   ],
   "source": [
    "z=final_house['location'].value_counts()>360\n",
    "z=list(z[z].keys())\n",
    "z"
   ]
  },
  {
   "cell_type": "code",
   "execution_count": 61,
   "id": "8a44cb8c",
   "metadata": {},
   "outputs": [],
   "source": [
    "def location_changer(text):\n",
    "    if text in x:\n",
    "        return 'r1'\n",
    "    if text in y:\n",
    "        return 'r2'\n",
    "    if text in z:\n",
    "        return 'r3'"
   ]
  },
  {
   "cell_type": "code",
   "execution_count": 62,
   "id": "9becba2c",
   "metadata": {},
   "outputs": [
    {
     "data": {
      "text/plain": [
       "True"
      ]
     },
     "execution_count": 62,
     "metadata": {},
     "output_type": "execute_result"
    }
   ],
   "source": [
    "'Whitefield' in z"
   ]
  },
  {
   "cell_type": "code",
   "execution_count": 63,
   "id": "f35abd96",
   "metadata": {},
   "outputs": [],
   "source": [
    "final_house['location']=final_house['location'].apply(location_changer)"
   ]
  },
  {
   "cell_type": "code",
   "execution_count": 64,
   "id": "82f2a9d9",
   "metadata": {},
   "outputs": [
    {
     "data": {
      "text/html": [
       "<div>\n",
       "<style scoped>\n",
       "    .dataframe tbody tr th:only-of-type {\n",
       "        vertical-align: middle;\n",
       "    }\n",
       "\n",
       "    .dataframe tbody tr th {\n",
       "        vertical-align: top;\n",
       "    }\n",
       "\n",
       "    .dataframe thead th {\n",
       "        text-align: right;\n",
       "    }\n",
       "</style>\n",
       "<table border=\"1\" class=\"dataframe\">\n",
       "  <thead>\n",
       "    <tr style=\"text-align: right;\">\n",
       "      <th></th>\n",
       "      <th>area_type</th>\n",
       "      <th>location</th>\n",
       "      <th>size</th>\n",
       "      <th>society</th>\n",
       "      <th>total_sqft</th>\n",
       "      <th>bath</th>\n",
       "      <th>balcony</th>\n",
       "      <th>price</th>\n",
       "      <th>upd_price</th>\n",
       "      <th>temp_avail</th>\n",
       "    </tr>\n",
       "  </thead>\n",
       "  <tbody>\n",
       "    <tr>\n",
       "      <th>9442</th>\n",
       "      <td>Super built-up  Area</td>\n",
       "      <td>r1</td>\n",
       "      <td>2 BHK</td>\n",
       "      <td>SLtias</td>\n",
       "      <td>795</td>\n",
       "      <td>2.0</td>\n",
       "      <td>1.0</td>\n",
       "      <td>32.54</td>\n",
       "      <td>32.54</td>\n",
       "      <td>cat4</td>\n",
       "    </tr>\n",
       "    <tr>\n",
       "      <th>1044</th>\n",
       "      <td>Plot  Area</td>\n",
       "      <td>r1</td>\n",
       "      <td>6 Bedroom</td>\n",
       "      <td>NaN</td>\n",
       "      <td>3968</td>\n",
       "      <td>5.0</td>\n",
       "      <td>2.0</td>\n",
       "      <td>900.00</td>\n",
       "      <td>190.00</td>\n",
       "      <td>cat4</td>\n",
       "    </tr>\n",
       "    <tr>\n",
       "      <th>6831</th>\n",
       "      <td>Plot  Area</td>\n",
       "      <td>r3</td>\n",
       "      <td>4 Bedroom</td>\n",
       "      <td>Pronege</td>\n",
       "      <td>4800</td>\n",
       "      <td>5.0</td>\n",
       "      <td>2.0</td>\n",
       "      <td>550.00</td>\n",
       "      <td>190.00</td>\n",
       "      <td>cat4</td>\n",
       "    </tr>\n",
       "    <tr>\n",
       "      <th>12260</th>\n",
       "      <td>Plot  Area</td>\n",
       "      <td>r1</td>\n",
       "      <td>4 Bedroom</td>\n",
       "      <td>NaN</td>\n",
       "      <td>2400</td>\n",
       "      <td>4.0</td>\n",
       "      <td>3.0</td>\n",
       "      <td>470.00</td>\n",
       "      <td>190.00</td>\n",
       "      <td>cat4</td>\n",
       "    </tr>\n",
       "    <tr>\n",
       "      <th>309</th>\n",
       "      <td>Super built-up  Area</td>\n",
       "      <td>r1</td>\n",
       "      <td>3 BHK</td>\n",
       "      <td>Maerar</td>\n",
       "      <td>1850</td>\n",
       "      <td>3.0</td>\n",
       "      <td>3.0</td>\n",
       "      <td>150.00</td>\n",
       "      <td>150.00</td>\n",
       "      <td>cat4</td>\n",
       "    </tr>\n",
       "  </tbody>\n",
       "</table>\n",
       "</div>"
      ],
      "text/plain": [
       "                  area_type location       size  society total_sqft  bath  \\\n",
       "9442   Super built-up  Area       r1      2 BHK  SLtias         795   2.0   \n",
       "1044             Plot  Area       r1  6 Bedroom      NaN       3968   5.0   \n",
       "6831             Plot  Area       r3  4 Bedroom  Pronege       4800   5.0   \n",
       "12260            Plot  Area       r1  4 Bedroom      NaN       2400   4.0   \n",
       "309    Super built-up  Area       r1      3 BHK  Maerar        1850   3.0   \n",
       "\n",
       "       balcony   price  upd_price temp_avail  \n",
       "9442       1.0   32.54      32.54       cat4  \n",
       "1044       2.0  900.00     190.00       cat4  \n",
       "6831       2.0  550.00     190.00       cat4  \n",
       "12260      3.0  470.00     190.00       cat4  \n",
       "309        3.0  150.00     150.00       cat4  "
      ]
     },
     "execution_count": 64,
     "metadata": {},
     "output_type": "execute_result"
    }
   ],
   "source": [
    "final_house.sample(5)"
   ]
  },
  {
   "cell_type": "code",
   "execution_count": 65,
   "id": "ba0a49fe",
   "metadata": {},
   "outputs": [
    {
     "data": {
      "text/plain": [
       "<AxesSubplot:xlabel='location', ylabel='upd_price'>"
      ]
     },
     "execution_count": 65,
     "metadata": {},
     "output_type": "execute_result"
    },
    {
     "data": {
      "image/png": "[encoded data removed]",
      "text/plain": [
       "<Figure size 1080x432 with 2 Axes>"
      ]
     },
     "metadata": {
      "needs_background": "light"
     },
     "output_type": "display_data"
    }
   ],
   "source": [
    "plt.figure(figsize=(15,6))\n",
    "plt.subplot(121)\n",
    "sns.barplot(x=final_house['location'],y=final_house['price'])\n",
    "plt.subplot(122)\n",
    "sns.barplot(x=final_house['location'],y=final_house['upd_price'])"
   ]
  },
  {
   "cell_type": "code",
   "execution_count": 66,
   "id": "339dca53",
   "metadata": {},
   "outputs": [
    {
     "data": {
      "text/plain": [
       "area_type      0.000000\n",
       "location       0.007508\n",
       "size           0.120120\n",
       "society       41.306306\n",
       "total_sqft     0.000000\n",
       "bath           0.548048\n",
       "balcony        4.572072\n",
       "price          0.000000\n",
       "upd_price      0.000000\n",
       "temp_avail     0.000000\n",
       "dtype: float64"
      ]
     },
     "execution_count": 66,
     "metadata": {},
     "output_type": "execute_result"
    }
   ],
   "source": [
    "final_house.isnull().mean()*100"
   ]
  },
  {
   "cell_type": "code",
   "execution_count": 67,
   "id": "13ca5f02",
   "metadata": {},
   "outputs": [
    {
     "data": {
      "text/plain": [
       "0    2 BHK\n",
       "dtype: object"
      ]
     },
     "execution_count": 67,
     "metadata": {},
     "output_type": "execute_result"
    }
   ],
   "source": [
    "final_house['size'].mode()"
   ]
  },
  {
   "cell_type": "code",
   "execution_count": 68,
   "id": "5693949f",
   "metadata": {},
   "outputs": [],
   "source": [
    "final_house['size']=final_house['size'].replace(np.nan,'2')"
   ]
  },
  {
   "cell_type": "code",
   "execution_count": 69,
   "id": "6942ef94",
   "metadata": {
    "scrolled": true
   },
   "outputs": [
    {
     "data": {
      "text/plain": [
       "array(['2 BHK', '3 BHK', '4 BHK', '1 RK', '1 BHK', '5 BHK', '7 BHK',\n",
       "       '6 BHK', '11 BHK', '9 BHK', '4 Bedroom', '27 BHK', '10 BHK',\n",
       "       '19 BHK', '16 BHK', '14 BHK', '8 BHK', '13 BHK', '8 Bedroom',\n",
       "       '6 Bedroom', '3 Bedroom', '5 Bedroom', '2 Bedroom', '1 Bedroom',\n",
       "       '9 Bedroom', '7 Bedroom', '10 Bedroom', '2', '11 Bedroom',\n",
       "       '43 Bedroom', '12 Bedroom', '18 Bedroom'], dtype=object)"
      ]
     },
     "execution_count": 69,
     "metadata": {},
     "output_type": "execute_result"
    }
   ],
   "source": [
    "final_house['size'].unique()"
   ]
  },
  {
   "cell_type": "code",
   "execution_count": 70,
   "id": "89baba3f",
   "metadata": {},
   "outputs": [],
   "source": [
    "final_house['size']=final_house['size'].str.extract('(\\d+)')"
   ]
  },
  {
   "cell_type": "code",
   "execution_count": 71,
   "id": "170f4931",
   "metadata": {},
   "outputs": [
    {
     "data": {
      "text/plain": [
       "0"
      ]
     },
     "execution_count": 71,
     "metadata": {},
     "output_type": "execute_result"
    }
   ],
   "source": [
    "final_house['size'].isnull().sum()"
   ]
  },
  {
   "cell_type": "code",
   "execution_count": 72,
   "id": "8953d9fc",
   "metadata": {},
   "outputs": [
    {
     "data": {
      "text/html": [
       "<div>\n",
       "<style scoped>\n",
       "    .dataframe tbody tr th:only-of-type {\n",
       "        vertical-align: middle;\n",
       "    }\n",
       "\n",
       "    .dataframe tbody tr th {\n",
       "        vertical-align: top;\n",
       "    }\n",
       "\n",
       "    .dataframe thead th {\n",
       "        text-align: right;\n",
       "    }\n",
       "</style>\n",
       "<table border=\"1\" class=\"dataframe\">\n",
       "  <thead>\n",
       "    <tr style=\"text-align: right;\">\n",
       "      <th></th>\n",
       "      <th>area_type</th>\n",
       "      <th>location</th>\n",
       "      <th>size</th>\n",
       "      <th>society</th>\n",
       "      <th>total_sqft</th>\n",
       "      <th>bath</th>\n",
       "      <th>balcony</th>\n",
       "      <th>price</th>\n",
       "      <th>upd_price</th>\n",
       "      <th>temp_avail</th>\n",
       "    </tr>\n",
       "  </thead>\n",
       "  <tbody>\n",
       "    <tr>\n",
       "      <th>0</th>\n",
       "      <td>Super built-up  Area</td>\n",
       "      <td>r1</td>\n",
       "      <td>2</td>\n",
       "      <td>Coomee</td>\n",
       "      <td>1056</td>\n",
       "      <td>2.0</td>\n",
       "      <td>1.0</td>\n",
       "      <td>39.07</td>\n",
       "      <td>39.07</td>\n",
       "      <td>cat3</td>\n",
       "    </tr>\n",
       "    <tr>\n",
       "      <th>3</th>\n",
       "      <td>Super built-up  Area</td>\n",
       "      <td>r1</td>\n",
       "      <td>3</td>\n",
       "      <td>Soiewre</td>\n",
       "      <td>1521</td>\n",
       "      <td>3.0</td>\n",
       "      <td>1.0</td>\n",
       "      <td>95.00</td>\n",
       "      <td>95.00</td>\n",
       "      <td>cat4</td>\n",
       "    </tr>\n",
       "    <tr>\n",
       "      <th>4</th>\n",
       "      <td>Super built-up  Area</td>\n",
       "      <td>r1</td>\n",
       "      <td>2</td>\n",
       "      <td>NaN</td>\n",
       "      <td>1200</td>\n",
       "      <td>2.0</td>\n",
       "      <td>1.0</td>\n",
       "      <td>51.00</td>\n",
       "      <td>51.00</td>\n",
       "      <td>cat4</td>\n",
       "    </tr>\n",
       "    <tr>\n",
       "      <th>5</th>\n",
       "      <td>Super built-up  Area</td>\n",
       "      <td>r3</td>\n",
       "      <td>2</td>\n",
       "      <td>DuenaTa</td>\n",
       "      <td>1170</td>\n",
       "      <td>2.0</td>\n",
       "      <td>1.0</td>\n",
       "      <td>38.00</td>\n",
       "      <td>38.00</td>\n",
       "      <td>cat4</td>\n",
       "    </tr>\n",
       "    <tr>\n",
       "      <th>6</th>\n",
       "      <td>Super built-up  Area</td>\n",
       "      <td>r1</td>\n",
       "      <td>4</td>\n",
       "      <td>Jaades</td>\n",
       "      <td>2732</td>\n",
       "      <td>4.0</td>\n",
       "      <td>NaN</td>\n",
       "      <td>204.00</td>\n",
       "      <td>190.00</td>\n",
       "      <td>cat2</td>\n",
       "    </tr>\n",
       "  </tbody>\n",
       "</table>\n",
       "</div>"
      ],
      "text/plain": [
       "              area_type location size  society total_sqft  bath  balcony  \\\n",
       "0  Super built-up  Area       r1    2  Coomee        1056   2.0      1.0   \n",
       "3  Super built-up  Area       r1    3  Soiewre       1521   3.0      1.0   \n",
       "4  Super built-up  Area       r1    2      NaN       1200   2.0      1.0   \n",
       "5  Super built-up  Area       r3    2  DuenaTa       1170   2.0      1.0   \n",
       "6  Super built-up  Area       r1    4  Jaades        2732   4.0      NaN   \n",
       "\n",
       "    price  upd_price temp_avail  \n",
       "0   39.07      39.07       cat3  \n",
       "3   95.00      95.00       cat4  \n",
       "4   51.00      51.00       cat4  \n",
       "5   38.00      38.00       cat4  \n",
       "6  204.00     190.00       cat2  "
      ]
     },
     "execution_count": 72,
     "metadata": {},
     "output_type": "execute_result"
    }
   ],
   "source": [
    "final_house.head()"
   ]
  },
  {
   "cell_type": "code",
   "execution_count": 73,
   "id": "f63fb244",
   "metadata": {},
   "outputs": [],
   "source": [
    "final_house.drop(['society'],axis=1,inplace=True)"
   ]
  },
  {
   "cell_type": "code",
   "execution_count": 74,
   "id": "4b0bae60",
   "metadata": {},
   "outputs": [],
   "source": [
    "final_house.rename(columns={'temp_avail':'availabilty'},inplace=True)"
   ]
  },
  {
   "cell_type": "code",
   "execution_count": 75,
   "id": "34e0fe9a",
   "metadata": {},
   "outputs": [],
   "source": [
    "final_house['size']=final_house['size'].astype('int')"
   ]
  },
  {
   "cell_type": "code",
   "execution_count": 76,
   "id": "0ee822f5",
   "metadata": {
    "scrolled": false
   },
   "outputs": [
    {
     "data": {
      "text/html": [
       "<div>\n",
       "<style scoped>\n",
       "    .dataframe tbody tr th:only-of-type {\n",
       "        vertical-align: middle;\n",
       "    }\n",
       "\n",
       "    .dataframe tbody tr th {\n",
       "        vertical-align: top;\n",
       "    }\n",
       "\n",
       "    .dataframe thead th {\n",
       "        text-align: right;\n",
       "    }\n",
       "</style>\n",
       "<table border=\"1\" class=\"dataframe\">\n",
       "  <thead>\n",
       "    <tr style=\"text-align: right;\">\n",
       "      <th></th>\n",
       "      <th>area_type</th>\n",
       "      <th>location</th>\n",
       "      <th>size</th>\n",
       "      <th>total_sqft</th>\n",
       "      <th>bath</th>\n",
       "      <th>balcony</th>\n",
       "      <th>price</th>\n",
       "      <th>upd_price</th>\n",
       "      <th>availabilty</th>\n",
       "    </tr>\n",
       "  </thead>\n",
       "  <tbody>\n",
       "    <tr>\n",
       "      <th>0</th>\n",
       "      <td>Super built-up  Area</td>\n",
       "      <td>r1</td>\n",
       "      <td>2</td>\n",
       "      <td>1056</td>\n",
       "      <td>2.0</td>\n",
       "      <td>1.0</td>\n",
       "      <td>39.07</td>\n",
       "      <td>39.07</td>\n",
       "      <td>cat3</td>\n",
       "    </tr>\n",
       "    <tr>\n",
       "      <th>3</th>\n",
       "      <td>Super built-up  Area</td>\n",
       "      <td>r1</td>\n",
       "      <td>3</td>\n",
       "      <td>1521</td>\n",
       "      <td>3.0</td>\n",
       "      <td>1.0</td>\n",
       "      <td>95.00</td>\n",
       "      <td>95.00</td>\n",
       "      <td>cat4</td>\n",
       "    </tr>\n",
       "    <tr>\n",
       "      <th>4</th>\n",
       "      <td>Super built-up  Area</td>\n",
       "      <td>r1</td>\n",
       "      <td>2</td>\n",
       "      <td>1200</td>\n",
       "      <td>2.0</td>\n",
       "      <td>1.0</td>\n",
       "      <td>51.00</td>\n",
       "      <td>51.00</td>\n",
       "      <td>cat4</td>\n",
       "    </tr>\n",
       "    <tr>\n",
       "      <th>5</th>\n",
       "      <td>Super built-up  Area</td>\n",
       "      <td>r3</td>\n",
       "      <td>2</td>\n",
       "      <td>1170</td>\n",
       "      <td>2.0</td>\n",
       "      <td>1.0</td>\n",
       "      <td>38.00</td>\n",
       "      <td>38.00</td>\n",
       "      <td>cat4</td>\n",
       "    </tr>\n",
       "    <tr>\n",
       "      <th>6</th>\n",
       "      <td>Super built-up  Area</td>\n",
       "      <td>r1</td>\n",
       "      <td>4</td>\n",
       "      <td>2732</td>\n",
       "      <td>4.0</td>\n",
       "      <td>NaN</td>\n",
       "      <td>204.00</td>\n",
       "      <td>190.00</td>\n",
       "      <td>cat2</td>\n",
       "    </tr>\n",
       "  </tbody>\n",
       "</table>\n",
       "</div>"
      ],
      "text/plain": [
       "              area_type location  size total_sqft  bath  balcony   price  \\\n",
       "0  Super built-up  Area       r1     2       1056   2.0      1.0   39.07   \n",
       "3  Super built-up  Area       r1     3       1521   3.0      1.0   95.00   \n",
       "4  Super built-up  Area       r1     2       1200   2.0      1.0   51.00   \n",
       "5  Super built-up  Area       r3     2       1170   2.0      1.0   38.00   \n",
       "6  Super built-up  Area       r1     4       2732   4.0      NaN  204.00   \n",
       "\n",
       "   upd_price availabilty  \n",
       "0      39.07        cat3  \n",
       "3      95.00        cat4  \n",
       "4      51.00        cat4  \n",
       "5      38.00        cat4  \n",
       "6     190.00        cat2  "
      ]
     },
     "execution_count": 76,
     "metadata": {},
     "output_type": "execute_result"
    }
   ],
   "source": [
    "final_house.head()"
   ]
  },
  {
   "cell_type": "code",
   "execution_count": 77,
   "id": "e03010f6",
   "metadata": {},
   "outputs": [
    {
     "data": {
      "text/plain": [
       "1200           843\n",
       "1100           221\n",
       "1500           205\n",
       "2400           196\n",
       "600            180\n",
       "              ... \n",
       "1542.14          1\n",
       "2144.6           1\n",
       "1087             1\n",
       "2462 - 2467      1\n",
       "2282             1\n",
       "Name: total_sqft, Length: 2117, dtype: int64"
      ]
     },
     "execution_count": 77,
     "metadata": {},
     "output_type": "execute_result"
    }
   ],
   "source": [
    "final_house['total_sqft'].value_counts()"
   ]
  },
  {
   "cell_type": "code",
   "execution_count": 78,
   "id": "9f0b7081",
   "metadata": {},
   "outputs": [],
   "source": [
    "import re"
   ]
  },
  {
   "cell_type": "code",
   "execution_count": 79,
   "id": "58f82653",
   "metadata": {},
   "outputs": [],
   "source": [
    "\n",
    "def cleaner(text):\n",
    "    li=text.split()\n",
    "    if len(li)==1:\n",
    "        checker=li[0]\n",
    "        finder=re.findall('([A-Z][a-z]*)',checker)\n",
    "        if len(finder)==1:\n",
    "            if finder == 'Acres':\n",
    "                val=num_val * 43560.0\n",
    "                return float(val)\n",
    "            elif finder == 'Guntha':\n",
    "                val=num_val * 1089.0\n",
    "                return float(val)\n",
    "            elif finder == 'Grounds':\n",
    "                val=num_val * 2400.0\n",
    "                return float(val)\n",
    "            elif finder == 'Perch':\n",
    "                val=num_val * 272.25\n",
    "                return float(val)\n",
    "        else:\n",
    "            try:\n",
    "                return float(text)\n",
    "            except:\n",
    "                return text\n",
    "    if len(li)==2:\n",
    "        raw_val=li[0]\n",
    "        num_val=re.findall('(\\d+.\\d+)',raw_val)\n",
    "        unit=li[1]\n",
    "        \n",
    "        if unit == 'Sq. Meter':\n",
    "            val=num_val * 10.7639\n",
    "            return float(val)\n",
    "        elif unit == 'Sq. Yards':\n",
    "            val =num_val * 9.0\n",
    "            return float(val)\n",
    "        elif unit == 'Cents':\n",
    "            val=num_val * 435.61545\n",
    "            return float(val)\n",
    "    if len(li)==3:\n",
    "        val =(float(li[0])+float(li[2]))/2\n",
    "        return val\n",
    "     "
   ]
  },
  {
   "cell_type": "markdown",
   "id": "989803ad",
   "metadata": {},
   "source": [
    "## Total me bbharne ke liye"
   ]
  },
  {
   "cell_type": "code",
   "execution_count": 80,
   "id": "8921d7b3",
   "metadata": {},
   "outputs": [],
   "source": [
    "temp_mode=final_house['total_sqft'].mode()"
   ]
  },
  {
   "cell_type": "code",
   "execution_count": 81,
   "id": "da621d55",
   "metadata": {},
   "outputs": [],
   "source": [
    "final_house['total_sqft']=final_house['total_sqft'].fillna(temp_mode)"
   ]
  },
  {
   "cell_type": "code",
   "execution_count": 82,
   "id": "9eb89c8b",
   "metadata": {},
   "outputs": [
    {
     "data": {
      "text/plain": [
       "area_type        0\n",
       "location         1\n",
       "size             0\n",
       "total_sqft       0\n",
       "bath            73\n",
       "balcony        609\n",
       "price            0\n",
       "upd_price        0\n",
       "availabilty      0\n",
       "dtype: int64"
      ]
     },
     "execution_count": 82,
     "metadata": {},
     "output_type": "execute_result"
    }
   ],
   "source": [
    "final_house.isnull().sum()"
   ]
  },
  {
   "cell_type": "code",
   "execution_count": 83,
   "id": "37fdcbf0",
   "metadata": {},
   "outputs": [],
   "source": [
    "final_house['sqft']=final_house['total_sqft'].apply(cleaner)"
   ]
  },
  {
   "cell_type": "code",
   "execution_count": 84,
   "id": "5f4ec474",
   "metadata": {
    "scrolled": true
   },
   "outputs": [
    {
     "name": "stdout",
     "output_type": "stream",
     "text": [
      "<class 'pandas.core.frame.DataFrame'>\n",
      "Int64Index: 13320 entries, 0 to 13305\n",
      "Data columns (total 10 columns):\n",
      " #   Column       Non-Null Count  Dtype  \n",
      "---  ------       --------------  -----  \n",
      " 0   area_type    13320 non-null  object \n",
      " 1   location     13319 non-null  object \n",
      " 2   size         13320 non-null  int32  \n",
      " 3   total_sqft   13320 non-null  object \n",
      " 4   bath         13247 non-null  float64\n",
      " 5   balcony      12711 non-null  float64\n",
      " 6   price        13320 non-null  float64\n",
      " 7   upd_price    13320 non-null  float64\n",
      " 8   availabilty  13320 non-null  object \n",
      " 9   sqft         13274 non-null  float64\n",
      "dtypes: float64(5), int32(1), object(4)\n",
      "memory usage: 1.6+ MB\n"
     ]
    }
   ],
   "source": [
    "final_house.info()"
   ]
  },
  {
   "cell_type": "code",
   "execution_count": 85,
   "id": "1ac31e66",
   "metadata": {},
   "outputs": [],
   "source": [
    "final_house['sqft']=final_house['sqft'].astype('float')"
   ]
  },
  {
   "cell_type": "code",
   "execution_count": 86,
   "id": "f220f866",
   "metadata": {},
   "outputs": [],
   "source": [
    "final_house.drop(['total_sqft'],axis=1,inplace=True)"
   ]
  },
  {
   "cell_type": "code",
   "execution_count": 87,
   "id": "b68eb674",
   "metadata": {},
   "outputs": [
    {
     "data": {
      "text/html": [
       "<div>\n",
       "<style scoped>\n",
       "    .dataframe tbody tr th:only-of-type {\n",
       "        vertical-align: middle;\n",
       "    }\n",
       "\n",
       "    .dataframe tbody tr th {\n",
       "        vertical-align: top;\n",
       "    }\n",
       "\n",
       "    .dataframe thead th {\n",
       "        text-align: right;\n",
       "    }\n",
       "</style>\n",
       "<table border=\"1\" class=\"dataframe\">\n",
       "  <thead>\n",
       "    <tr style=\"text-align: right;\">\n",
       "      <th></th>\n",
       "      <th>area_type</th>\n",
       "      <th>location</th>\n",
       "      <th>size</th>\n",
       "      <th>bath</th>\n",
       "      <th>balcony</th>\n",
       "      <th>price</th>\n",
       "      <th>upd_price</th>\n",
       "      <th>availabilty</th>\n",
       "      <th>sqft</th>\n",
       "    </tr>\n",
       "  </thead>\n",
       "  <tbody>\n",
       "    <tr>\n",
       "      <th>0</th>\n",
       "      <td>Super built-up  Area</td>\n",
       "      <td>r1</td>\n",
       "      <td>2</td>\n",
       "      <td>2.0</td>\n",
       "      <td>1.0</td>\n",
       "      <td>39.07</td>\n",
       "      <td>39.07</td>\n",
       "      <td>cat3</td>\n",
       "      <td>1056.0</td>\n",
       "    </tr>\n",
       "    <tr>\n",
       "      <th>3</th>\n",
       "      <td>Super built-up  Area</td>\n",
       "      <td>r1</td>\n",
       "      <td>3</td>\n",
       "      <td>3.0</td>\n",
       "      <td>1.0</td>\n",
       "      <td>95.00</td>\n",
       "      <td>95.00</td>\n",
       "      <td>cat4</td>\n",
       "      <td>1521.0</td>\n",
       "    </tr>\n",
       "    <tr>\n",
       "      <th>4</th>\n",
       "      <td>Super built-up  Area</td>\n",
       "      <td>r1</td>\n",
       "      <td>2</td>\n",
       "      <td>2.0</td>\n",
       "      <td>1.0</td>\n",
       "      <td>51.00</td>\n",
       "      <td>51.00</td>\n",
       "      <td>cat4</td>\n",
       "      <td>1200.0</td>\n",
       "    </tr>\n",
       "    <tr>\n",
       "      <th>5</th>\n",
       "      <td>Super built-up  Area</td>\n",
       "      <td>r3</td>\n",
       "      <td>2</td>\n",
       "      <td>2.0</td>\n",
       "      <td>1.0</td>\n",
       "      <td>38.00</td>\n",
       "      <td>38.00</td>\n",
       "      <td>cat4</td>\n",
       "      <td>1170.0</td>\n",
       "    </tr>\n",
       "    <tr>\n",
       "      <th>6</th>\n",
       "      <td>Super built-up  Area</td>\n",
       "      <td>r1</td>\n",
       "      <td>4</td>\n",
       "      <td>4.0</td>\n",
       "      <td>NaN</td>\n",
       "      <td>204.00</td>\n",
       "      <td>190.00</td>\n",
       "      <td>cat2</td>\n",
       "      <td>2732.0</td>\n",
       "    </tr>\n",
       "    <tr>\n",
       "      <th>...</th>\n",
       "      <td>...</td>\n",
       "      <td>...</td>\n",
       "      <td>...</td>\n",
       "      <td>...</td>\n",
       "      <td>...</td>\n",
       "      <td>...</td>\n",
       "      <td>...</td>\n",
       "      <td>...</td>\n",
       "      <td>...</td>\n",
       "    </tr>\n",
       "    <tr>\n",
       "      <th>13006</th>\n",
       "      <td>Carpet  Area</td>\n",
       "      <td>r1</td>\n",
       "      <td>3</td>\n",
       "      <td>3.0</td>\n",
       "      <td>1.0</td>\n",
       "      <td>42.00</td>\n",
       "      <td>42.00</td>\n",
       "      <td>cat4</td>\n",
       "      <td>1280.0</td>\n",
       "    </tr>\n",
       "    <tr>\n",
       "      <th>13183</th>\n",
       "      <td>Carpet  Area</td>\n",
       "      <td>r1</td>\n",
       "      <td>2</td>\n",
       "      <td>1.0</td>\n",
       "      <td>1.0</td>\n",
       "      <td>65.00</td>\n",
       "      <td>65.00</td>\n",
       "      <td>cat4</td>\n",
       "      <td>600.0</td>\n",
       "    </tr>\n",
       "    <tr>\n",
       "      <th>13214</th>\n",
       "      <td>Carpet  Area</td>\n",
       "      <td>r1</td>\n",
       "      <td>3</td>\n",
       "      <td>2.0</td>\n",
       "      <td>1.0</td>\n",
       "      <td>85.00</td>\n",
       "      <td>85.00</td>\n",
       "      <td>cat4</td>\n",
       "      <td>1470.0</td>\n",
       "    </tr>\n",
       "    <tr>\n",
       "      <th>13238</th>\n",
       "      <td>Carpet  Area</td>\n",
       "      <td>r1</td>\n",
       "      <td>2</td>\n",
       "      <td>2.0</td>\n",
       "      <td>3.0</td>\n",
       "      <td>70.00</td>\n",
       "      <td>70.00</td>\n",
       "      <td>cat1</td>\n",
       "      <td>1200.0</td>\n",
       "    </tr>\n",
       "    <tr>\n",
       "      <th>13305</th>\n",
       "      <td>Carpet  Area</td>\n",
       "      <td>r1</td>\n",
       "      <td>1</td>\n",
       "      <td>1.0</td>\n",
       "      <td>3.0</td>\n",
       "      <td>220.00</td>\n",
       "      <td>190.00</td>\n",
       "      <td>cat4</td>\n",
       "      <td>500.0</td>\n",
       "    </tr>\n",
       "  </tbody>\n",
       "</table>\n",
       "<p>13320 rows × 9 columns</p>\n",
       "</div>"
      ],
      "text/plain": [
       "                  area_type location  size  bath  balcony   price  upd_price  \\\n",
       "0      Super built-up  Area       r1     2   2.0      1.0   39.07      39.07   \n",
       "3      Super built-up  Area       r1     3   3.0      1.0   95.00      95.00   \n",
       "4      Super built-up  Area       r1     2   2.0      1.0   51.00      51.00   \n",
       "5      Super built-up  Area       r3     2   2.0      1.0   38.00      38.00   \n",
       "6      Super built-up  Area       r1     4   4.0      NaN  204.00     190.00   \n",
       "...                     ...      ...   ...   ...      ...     ...        ...   \n",
       "13006          Carpet  Area       r1     3   3.0      1.0   42.00      42.00   \n",
       "13183          Carpet  Area       r1     2   1.0      1.0   65.00      65.00   \n",
       "13214          Carpet  Area       r1     3   2.0      1.0   85.00      85.00   \n",
       "13238          Carpet  Area       r1     2   2.0      3.0   70.00      70.00   \n",
       "13305          Carpet  Area       r1     1   1.0      3.0  220.00     190.00   \n",
       "\n",
       "      availabilty    sqft  \n",
       "0            cat3  1056.0  \n",
       "3            cat4  1521.0  \n",
       "4            cat4  1200.0  \n",
       "5            cat4  1170.0  \n",
       "6            cat2  2732.0  \n",
       "...           ...     ...  \n",
       "13006        cat4  1280.0  \n",
       "13183        cat4   600.0  \n",
       "13214        cat4  1470.0  \n",
       "13238        cat1  1200.0  \n",
       "13305        cat4   500.0  \n",
       "\n",
       "[13320 rows x 9 columns]"
      ]
     },
     "execution_count": 87,
     "metadata": {},
     "output_type": "execute_result"
    }
   ],
   "source": [
    "final_house"
   ]
  },
  {
   "cell_type": "code",
   "execution_count": 88,
   "id": "14608e39",
   "metadata": {},
   "outputs": [
    {
     "data": {
      "text/plain": [
       "area_type        0\n",
       "location         1\n",
       "size             0\n",
       "bath            73\n",
       "balcony        609\n",
       "price            0\n",
       "upd_price        0\n",
       "availabilty      0\n",
       "sqft            46\n",
       "dtype: int64"
      ]
     },
     "execution_count": 88,
     "metadata": {},
     "output_type": "execute_result"
    }
   ],
   "source": [
    "final_house.isnull().sum()"
   ]
  },
  {
   "cell_type": "code",
   "execution_count": 89,
   "id": "abd539f5",
   "metadata": {},
   "outputs": [],
   "source": [
    "final_house['p_per_sqft']=final_house['upd_price']*1000000/final_house['sqft']"
   ]
  },
  {
   "cell_type": "code",
   "execution_count": 90,
   "id": "1f86f89d",
   "metadata": {},
   "outputs": [
    {
     "data": {
      "text/plain": [
       "4.823509590691522"
      ]
     },
     "execution_count": 90,
     "metadata": {},
     "output_type": "execute_result"
    }
   ],
   "source": [
    "final_house['size'].skew()"
   ]
  },
  {
   "cell_type": "code",
   "execution_count": 91,
   "id": "243693f0",
   "metadata": {},
   "outputs": [
    {
     "name": "stdout",
     "output_type": "stream",
     "text": [
      "0.5 4.5\n"
     ]
    }
   ],
   "source": [
    "q1=final_house['size'].quantile(0.25)\n",
    "q3=final_house['size'].quantile(0.75)\n",
    "iqr=q3-q1\n",
    "ll=q1-1.5*iqr\n",
    "ul=q3+1.5*iqr\n",
    "print(ll,ul)"
   ]
  },
  {
   "cell_type": "code",
   "execution_count": 92,
   "id": "d7234a9e",
   "metadata": {},
   "outputs": [],
   "source": [
    "final_house['size']=np.where(final_house['size']>ul,ul,final_house['size'])"
   ]
  },
  {
   "cell_type": "code",
   "execution_count": 93,
   "id": "f8ec32aa",
   "metadata": {
    "scrolled": true
   },
   "outputs": [
    {
     "data": {
      "text/html": [
       "<div>\n",
       "<style scoped>\n",
       "    .dataframe tbody tr th:only-of-type {\n",
       "        vertical-align: middle;\n",
       "    }\n",
       "\n",
       "    .dataframe tbody tr th {\n",
       "        vertical-align: top;\n",
       "    }\n",
       "\n",
       "    .dataframe thead th {\n",
       "        text-align: right;\n",
       "    }\n",
       "</style>\n",
       "<table border=\"1\" class=\"dataframe\">\n",
       "  <thead>\n",
       "    <tr style=\"text-align: right;\">\n",
       "      <th></th>\n",
       "      <th>area_type</th>\n",
       "      <th>location</th>\n",
       "      <th>size</th>\n",
       "      <th>bath</th>\n",
       "      <th>balcony</th>\n",
       "      <th>price</th>\n",
       "      <th>upd_price</th>\n",
       "      <th>availabilty</th>\n",
       "      <th>sqft</th>\n",
       "      <th>p_per_sqft</th>\n",
       "    </tr>\n",
       "  </thead>\n",
       "  <tbody>\n",
       "    <tr>\n",
       "      <th>12171</th>\n",
       "      <td>Super built-up  Area</td>\n",
       "      <td>r1</td>\n",
       "      <td>2.0</td>\n",
       "      <td>2.0</td>\n",
       "      <td>1.0</td>\n",
       "      <td>40.00</td>\n",
       "      <td>40.00</td>\n",
       "      <td>cat4</td>\n",
       "      <td>900.0</td>\n",
       "      <td>44444.444444</td>\n",
       "    </tr>\n",
       "    <tr>\n",
       "      <th>126</th>\n",
       "      <td>Built-up  Area</td>\n",
       "      <td>r1</td>\n",
       "      <td>3.0</td>\n",
       "      <td>3.0</td>\n",
       "      <td>2.0</td>\n",
       "      <td>65.00</td>\n",
       "      <td>65.00</td>\n",
       "      <td>cat4</td>\n",
       "      <td>1600.0</td>\n",
       "      <td>40625.000000</td>\n",
       "    </tr>\n",
       "    <tr>\n",
       "      <th>9313</th>\n",
       "      <td>Plot  Area</td>\n",
       "      <td>r1</td>\n",
       "      <td>4.0</td>\n",
       "      <td>4.0</td>\n",
       "      <td>1.0</td>\n",
       "      <td>125.00</td>\n",
       "      <td>125.00</td>\n",
       "      <td>cat4</td>\n",
       "      <td>1200.0</td>\n",
       "      <td>104166.666667</td>\n",
       "    </tr>\n",
       "    <tr>\n",
       "      <th>10082</th>\n",
       "      <td>Super built-up  Area</td>\n",
       "      <td>r1</td>\n",
       "      <td>2.0</td>\n",
       "      <td>2.0</td>\n",
       "      <td>3.0</td>\n",
       "      <td>85.00</td>\n",
       "      <td>85.00</td>\n",
       "      <td>cat4</td>\n",
       "      <td>1340.0</td>\n",
       "      <td>63432.835821</td>\n",
       "    </tr>\n",
       "    <tr>\n",
       "      <th>2190</th>\n",
       "      <td>Plot  Area</td>\n",
       "      <td>r1</td>\n",
       "      <td>4.0</td>\n",
       "      <td>4.0</td>\n",
       "      <td>1.0</td>\n",
       "      <td>200.00</td>\n",
       "      <td>190.00</td>\n",
       "      <td>cat4</td>\n",
       "      <td>1350.0</td>\n",
       "      <td>140740.740741</td>\n",
       "    </tr>\n",
       "    <tr>\n",
       "      <th>9771</th>\n",
       "      <td>Plot  Area</td>\n",
       "      <td>r1</td>\n",
       "      <td>4.0</td>\n",
       "      <td>3.0</td>\n",
       "      <td>3.0</td>\n",
       "      <td>130.00</td>\n",
       "      <td>130.00</td>\n",
       "      <td>cat4</td>\n",
       "      <td>2970.0</td>\n",
       "      <td>43771.043771</td>\n",
       "    </tr>\n",
       "    <tr>\n",
       "      <th>13060</th>\n",
       "      <td>Super built-up  Area</td>\n",
       "      <td>r1</td>\n",
       "      <td>3.0</td>\n",
       "      <td>3.0</td>\n",
       "      <td>NaN</td>\n",
       "      <td>81.00</td>\n",
       "      <td>81.00</td>\n",
       "      <td>cat4</td>\n",
       "      <td>1674.0</td>\n",
       "      <td>48387.096774</td>\n",
       "    </tr>\n",
       "    <tr>\n",
       "      <th>4200</th>\n",
       "      <td>Super built-up  Area</td>\n",
       "      <td>r1</td>\n",
       "      <td>2.0</td>\n",
       "      <td>2.0</td>\n",
       "      <td>2.0</td>\n",
       "      <td>38.85</td>\n",
       "      <td>38.85</td>\n",
       "      <td>cat4</td>\n",
       "      <td>1110.0</td>\n",
       "      <td>35000.000000</td>\n",
       "    </tr>\n",
       "    <tr>\n",
       "      <th>307</th>\n",
       "      <td>Super built-up  Area</td>\n",
       "      <td>r1</td>\n",
       "      <td>3.0</td>\n",
       "      <td>3.0</td>\n",
       "      <td>2.0</td>\n",
       "      <td>95.00</td>\n",
       "      <td>95.00</td>\n",
       "      <td>cat4</td>\n",
       "      <td>1665.0</td>\n",
       "      <td>57057.057057</td>\n",
       "    </tr>\n",
       "    <tr>\n",
       "      <th>8164</th>\n",
       "      <td>Super built-up  Area</td>\n",
       "      <td>r1</td>\n",
       "      <td>3.0</td>\n",
       "      <td>3.0</td>\n",
       "      <td>3.0</td>\n",
       "      <td>51.77</td>\n",
       "      <td>51.77</td>\n",
       "      <td>cat4</td>\n",
       "      <td>1531.0</td>\n",
       "      <td>33814.500327</td>\n",
       "    </tr>\n",
       "  </tbody>\n",
       "</table>\n",
       "</div>"
      ],
      "text/plain": [
       "                  area_type location  size  bath  balcony   price  upd_price  \\\n",
       "12171  Super built-up  Area       r1   2.0   2.0      1.0   40.00      40.00   \n",
       "126          Built-up  Area       r1   3.0   3.0      2.0   65.00      65.00   \n",
       "9313             Plot  Area       r1   4.0   4.0      1.0  125.00     125.00   \n",
       "10082  Super built-up  Area       r1   2.0   2.0      3.0   85.00      85.00   \n",
       "2190             Plot  Area       r1   4.0   4.0      1.0  200.00     190.00   \n",
       "9771             Plot  Area       r1   4.0   3.0      3.0  130.00     130.00   \n",
       "13060  Super built-up  Area       r1   3.0   3.0      NaN   81.00      81.00   \n",
       "4200   Super built-up  Area       r1   2.0   2.0      2.0   38.85      38.85   \n",
       "307    Super built-up  Area       r1   3.0   3.0      2.0   95.00      95.00   \n",
       "8164   Super built-up  Area       r1   3.0   3.0      3.0   51.77      51.77   \n",
       "\n",
       "      availabilty    sqft     p_per_sqft  \n",
       "12171        cat4   900.0   44444.444444  \n",
       "126          cat4  1600.0   40625.000000  \n",
       "9313         cat4  1200.0  104166.666667  \n",
       "10082        cat4  1340.0   63432.835821  \n",
       "2190         cat4  1350.0  140740.740741  \n",
       "9771         cat4  2970.0   43771.043771  \n",
       "13060        cat4  1674.0   48387.096774  \n",
       "4200         cat4  1110.0   35000.000000  \n",
       "307          cat4  1665.0   57057.057057  \n",
       "8164         cat4  1531.0   33814.500327  "
      ]
     },
     "execution_count": 93,
     "metadata": {},
     "output_type": "execute_result"
    }
   ],
   "source": [
    "final_house.sample(10)"
   ]
  },
  {
   "cell_type": "code",
   "execution_count": 94,
   "id": "930eace0",
   "metadata": {},
   "outputs": [
    {
     "data": {
      "text/plain": [
       "area_type        0\n",
       "location         1\n",
       "size             0\n",
       "bath            73\n",
       "balcony        609\n",
       "price            0\n",
       "upd_price        0\n",
       "availabilty      0\n",
       "sqft            46\n",
       "p_per_sqft      46\n",
       "dtype: int64"
      ]
     },
     "execution_count": 94,
     "metadata": {},
     "output_type": "execute_result"
    }
   ],
   "source": [
    "final_house.isnull().sum()"
   ]
  },
  {
   "cell_type": "code",
   "execution_count": 95,
   "id": "99057f25",
   "metadata": {},
   "outputs": [],
   "source": [
    "bath_mean=final_house['bath'].mean()\n",
    "final_house['bath']=final_house['bath'].fillna(bath_mean)"
   ]
  },
  {
   "cell_type": "code",
   "execution_count": 96,
   "id": "5cbb228f",
   "metadata": {},
   "outputs": [
    {
     "name": "stdout",
     "output_type": "stream",
     "text": [
      "0.5 4.5\n"
     ]
    }
   ],
   "source": [
    "q1=final_house['bath'].quantile(0.25)\n",
    "q3=final_house['bath'].quantile(0.75)\n",
    "iqr=q3-q1\n",
    "ll=q1-1.5*iqr\n",
    "ul=q3+1.5*iqr\n",
    "print(ll,ul)"
   ]
  },
  {
   "cell_type": "code",
   "execution_count": 97,
   "id": "22d7d8aa",
   "metadata": {},
   "outputs": [],
   "source": [
    "final_house['bath']=np.where(final_house['bath']>ul,ul,np.where(final_house['bath']<ll,ll,final_house['bath']))"
   ]
  },
  {
   "cell_type": "code",
   "execution_count": 98,
   "id": "ca33703e",
   "metadata": {
    "scrolled": true
   },
   "outputs": [
    {
     "data": {
      "text/plain": [
       "<AxesSubplot:>"
      ]
     },
     "execution_count": 98,
     "metadata": {},
     "output_type": "execute_result"
    },
    {
     "data": {
      "image/png": "[encoded data removed]",
      "text/plain": [
       "<Figure size 432x288 with 1 Axes>"
      ]
     },
     "metadata": {
      "needs_background": "light"
     },
     "output_type": "display_data"
    }
   ],
   "source": [
    "final_house['bath'].plot(kind='box')"
   ]
  },
  {
   "cell_type": "code",
   "execution_count": 99,
   "id": "e1dfce9e",
   "metadata": {},
   "outputs": [],
   "source": [
    "balc_meadian=final_house['balcony'].median()\n",
    "final_house['balcony']=final_house['balcony'].fillna(balc_meadian)"
   ]
  },
  {
   "cell_type": "code",
   "execution_count": 100,
   "id": "dca71691",
   "metadata": {},
   "outputs": [
    {
     "name": "stdout",
     "output_type": "stream",
     "text": [
      "-0.5 3.5\n"
     ]
    }
   ],
   "source": [
    "q1=final_house['balcony'].quantile(0.25)\n",
    "q3=final_house['balcony'].quantile(0.75)\n",
    "iqr=q3-q1\n",
    "ll=q1-1.5*iqr\n",
    "ul=q3+1.5*iqr\n",
    "print(ll,ul)"
   ]
  },
  {
   "cell_type": "code",
   "execution_count": 101,
   "id": "8a533bd0",
   "metadata": {},
   "outputs": [],
   "source": [
    "final_house['balcony']=np.where(final_house['balcony']>ul,ul,np.where(final_house['balcony']<0,0,final_house['balcony']))"
   ]
  },
  {
   "cell_type": "code",
   "execution_count": 102,
   "id": "430e0aa4",
   "metadata": {},
   "outputs": [
    {
     "data": {
      "text/plain": [
       "<AxesSubplot:>"
      ]
     },
     "execution_count": 102,
     "metadata": {},
     "output_type": "execute_result"
    },
    {
     "data": {
      "image/png": "[encoded data removed]",
      "text/plain": [
       "<Figure size 432x288 with 1 Axes>"
      ]
     },
     "metadata": {
      "needs_background": "light"
     },
     "output_type": "display_data"
    }
   ],
   "source": [
    "final_house['balcony'].plot(kind='box')"
   ]
  },
  {
   "cell_type": "code",
   "execution_count": 103,
   "id": "a0ee039c",
   "metadata": {},
   "outputs": [
    {
     "data": {
      "text/plain": [
       "area_type       0\n",
       "location        1\n",
       "size            0\n",
       "bath            0\n",
       "balcony         0\n",
       "price           0\n",
       "upd_price       0\n",
       "availabilty     0\n",
       "sqft           46\n",
       "p_per_sqft     46\n",
       "dtype: int64"
      ]
     },
     "execution_count": 103,
     "metadata": {},
     "output_type": "execute_result"
    }
   ],
   "source": [
    "final_house.isnull().sum()"
   ]
  },
  {
   "cell_type": "code",
   "execution_count": 104,
   "id": "e7734d42",
   "metadata": {},
   "outputs": [],
   "source": [
    "final_house.dropna(inplace=True)"
   ]
  },
  {
   "cell_type": "code",
   "execution_count": 105,
   "id": "fcc76497",
   "metadata": {},
   "outputs": [],
   "source": [
    "final_house.drop(['p_per_sqft'],axis=1,inplace=True)"
   ]
  },
  {
   "cell_type": "code",
   "execution_count": 106,
   "id": "0e9324fd",
   "metadata": {},
   "outputs": [
    {
     "data": {
      "text/plain": [
       "array(['Super built-up  Area', 'Built-up  Area', 'Plot  Area',\n",
       "       'Carpet  Area'], dtype=object)"
      ]
     },
     "execution_count": 106,
     "metadata": {},
     "output_type": "execute_result"
    }
   ],
   "source": [
    "final_house['area_type'].unique()"
   ]
  },
  {
   "cell_type": "code",
   "execution_count": 107,
   "id": "5823036f",
   "metadata": {},
   "outputs": [],
   "source": [
    "location_mapper={'r3':3,'r1':2,'r2':1}\n",
    "area_mapper={'Super built-up  Area':2,'Built-up  Area':3,'Plot  Area':4,'Carpet  Area':1}\n",
    "avail_mapper={'cat1':3,'cat2':1,'cat3':2,'cat4':4}"
   ]
  },
  {
   "cell_type": "code",
   "execution_count": 108,
   "id": "8f3e0e55",
   "metadata": {},
   "outputs": [],
   "source": [
    "final_house['upd_loc']=final_house['location'].map(location_mapper)"
   ]
  },
  {
   "cell_type": "code",
   "execution_count": 109,
   "id": "8a32dd79",
   "metadata": {},
   "outputs": [],
   "source": [
    "final_house['upd_avail']=final_house['availabilty'].map(avail_mapper)"
   ]
  },
  {
   "cell_type": "code",
   "execution_count": 110,
   "id": "a1a195a6",
   "metadata": {},
   "outputs": [],
   "source": [
    "final_house['upd_area']=final_house['area_type'].map(area_mapper)"
   ]
  },
  {
   "cell_type": "code",
   "execution_count": 111,
   "id": "7add0d09",
   "metadata": {},
   "outputs": [
    {
     "data": {
      "text/html": [
       "<div>\n",
       "<style scoped>\n",
       "    .dataframe tbody tr th:only-of-type {\n",
       "        vertical-align: middle;\n",
       "    }\n",
       "\n",
       "    .dataframe tbody tr th {\n",
       "        vertical-align: top;\n",
       "    }\n",
       "\n",
       "    .dataframe thead th {\n",
       "        text-align: right;\n",
       "    }\n",
       "</style>\n",
       "<table border=\"1\" class=\"dataframe\">\n",
       "  <thead>\n",
       "    <tr style=\"text-align: right;\">\n",
       "      <th></th>\n",
       "      <th>area_type</th>\n",
       "      <th>location</th>\n",
       "      <th>size</th>\n",
       "      <th>bath</th>\n",
       "      <th>balcony</th>\n",
       "      <th>price</th>\n",
       "      <th>upd_price</th>\n",
       "      <th>availabilty</th>\n",
       "      <th>sqft</th>\n",
       "      <th>upd_loc</th>\n",
       "      <th>upd_avail</th>\n",
       "      <th>upd_area</th>\n",
       "    </tr>\n",
       "  </thead>\n",
       "  <tbody>\n",
       "    <tr>\n",
       "      <th>1395</th>\n",
       "      <td>Super built-up  Area</td>\n",
       "      <td>r2</td>\n",
       "      <td>2.0</td>\n",
       "      <td>2.00000</td>\n",
       "      <td>2.0</td>\n",
       "      <td>42.10</td>\n",
       "      <td>42.10</td>\n",
       "      <td>cat4</td>\n",
       "      <td>1185.0</td>\n",
       "      <td>1</td>\n",
       "      <td>4</td>\n",
       "      <td>2</td>\n",
       "    </tr>\n",
       "    <tr>\n",
       "      <th>6162</th>\n",
       "      <td>Plot  Area</td>\n",
       "      <td>r1</td>\n",
       "      <td>3.0</td>\n",
       "      <td>3.00000</td>\n",
       "      <td>2.0</td>\n",
       "      <td>92.00</td>\n",
       "      <td>92.00</td>\n",
       "      <td>cat4</td>\n",
       "      <td>1400.0</td>\n",
       "      <td>2</td>\n",
       "      <td>4</td>\n",
       "      <td>4</td>\n",
       "    </tr>\n",
       "    <tr>\n",
       "      <th>10553</th>\n",
       "      <td>Built-up  Area</td>\n",
       "      <td>r3</td>\n",
       "      <td>4.0</td>\n",
       "      <td>2.69261</td>\n",
       "      <td>2.0</td>\n",
       "      <td>222.00</td>\n",
       "      <td>190.00</td>\n",
       "      <td>cat4</td>\n",
       "      <td>3418.0</td>\n",
       "      <td>3</td>\n",
       "      <td>4</td>\n",
       "      <td>3</td>\n",
       "    </tr>\n",
       "    <tr>\n",
       "      <th>7545</th>\n",
       "      <td>Built-up  Area</td>\n",
       "      <td>r1</td>\n",
       "      <td>3.0</td>\n",
       "      <td>2.00000</td>\n",
       "      <td>1.0</td>\n",
       "      <td>67.00</td>\n",
       "      <td>67.00</td>\n",
       "      <td>cat4</td>\n",
       "      <td>1300.0</td>\n",
       "      <td>2</td>\n",
       "      <td>4</td>\n",
       "      <td>3</td>\n",
       "    </tr>\n",
       "    <tr>\n",
       "      <th>1810</th>\n",
       "      <td>Super built-up  Area</td>\n",
       "      <td>r2</td>\n",
       "      <td>3.0</td>\n",
       "      <td>3.00000</td>\n",
       "      <td>3.0</td>\n",
       "      <td>64.50</td>\n",
       "      <td>64.50</td>\n",
       "      <td>cat4</td>\n",
       "      <td>1570.0</td>\n",
       "      <td>1</td>\n",
       "      <td>4</td>\n",
       "      <td>2</td>\n",
       "    </tr>\n",
       "    <tr>\n",
       "      <th>9899</th>\n",
       "      <td>Super built-up  Area</td>\n",
       "      <td>r1</td>\n",
       "      <td>2.0</td>\n",
       "      <td>2.00000</td>\n",
       "      <td>2.0</td>\n",
       "      <td>50.00</td>\n",
       "      <td>50.00</td>\n",
       "      <td>cat1</td>\n",
       "      <td>966.0</td>\n",
       "      <td>2</td>\n",
       "      <td>3</td>\n",
       "      <td>2</td>\n",
       "    </tr>\n",
       "    <tr>\n",
       "      <th>6581</th>\n",
       "      <td>Super built-up  Area</td>\n",
       "      <td>r3</td>\n",
       "      <td>3.0</td>\n",
       "      <td>2.00000</td>\n",
       "      <td>0.0</td>\n",
       "      <td>40.72</td>\n",
       "      <td>40.72</td>\n",
       "      <td>cat4</td>\n",
       "      <td>1272.5</td>\n",
       "      <td>3</td>\n",
       "      <td>4</td>\n",
       "      <td>2</td>\n",
       "    </tr>\n",
       "    <tr>\n",
       "      <th>11601</th>\n",
       "      <td>Super built-up  Area</td>\n",
       "      <td>r1</td>\n",
       "      <td>2.0</td>\n",
       "      <td>2.00000</td>\n",
       "      <td>3.0</td>\n",
       "      <td>75.00</td>\n",
       "      <td>75.00</td>\n",
       "      <td>cat4</td>\n",
       "      <td>1192.0</td>\n",
       "      <td>2</td>\n",
       "      <td>4</td>\n",
       "      <td>2</td>\n",
       "    </tr>\n",
       "    <tr>\n",
       "      <th>8420</th>\n",
       "      <td>Super built-up  Area</td>\n",
       "      <td>r1</td>\n",
       "      <td>3.0</td>\n",
       "      <td>4.00000</td>\n",
       "      <td>2.0</td>\n",
       "      <td>153.00</td>\n",
       "      <td>153.00</td>\n",
       "      <td>cat4</td>\n",
       "      <td>2072.0</td>\n",
       "      <td>2</td>\n",
       "      <td>4</td>\n",
       "      <td>2</td>\n",
       "    </tr>\n",
       "    <tr>\n",
       "      <th>8609</th>\n",
       "      <td>Super built-up  Area</td>\n",
       "      <td>r1</td>\n",
       "      <td>2.0</td>\n",
       "      <td>2.00000</td>\n",
       "      <td>1.0</td>\n",
       "      <td>83.87</td>\n",
       "      <td>83.87</td>\n",
       "      <td>cat4</td>\n",
       "      <td>1407.0</td>\n",
       "      <td>2</td>\n",
       "      <td>4</td>\n",
       "      <td>2</td>\n",
       "    </tr>\n",
       "  </tbody>\n",
       "</table>\n",
       "</div>"
      ],
      "text/plain": [
       "                  area_type location  size     bath  balcony   price  \\\n",
       "1395   Super built-up  Area       r2   2.0  2.00000      2.0   42.10   \n",
       "6162             Plot  Area       r1   3.0  3.00000      2.0   92.00   \n",
       "10553        Built-up  Area       r3   4.0  2.69261      2.0  222.00   \n",
       "7545         Built-up  Area       r1   3.0  2.00000      1.0   67.00   \n",
       "1810   Super built-up  Area       r2   3.0  3.00000      3.0   64.50   \n",
       "9899   Super built-up  Area       r1   2.0  2.00000      2.0   50.00   \n",
       "6581   Super built-up  Area       r3   3.0  2.00000      0.0   40.72   \n",
       "11601  Super built-up  Area       r1   2.0  2.00000      3.0   75.00   \n",
       "8420   Super built-up  Area       r1   3.0  4.00000      2.0  153.00   \n",
       "8609   Super built-up  Area       r1   2.0  2.00000      1.0   83.87   \n",
       "\n",
       "       upd_price availabilty    sqft  upd_loc  upd_avail  upd_area  \n",
       "1395       42.10        cat4  1185.0        1          4         2  \n",
       "6162       92.00        cat4  1400.0        2          4         4  \n",
       "10553     190.00        cat4  3418.0        3          4         3  \n",
       "7545       67.00        cat4  1300.0        2          4         3  \n",
       "1810       64.50        cat4  1570.0        1          4         2  \n",
       "9899       50.00        cat1   966.0        2          3         2  \n",
       "6581       40.72        cat4  1272.5        3          4         2  \n",
       "11601      75.00        cat4  1192.0        2          4         2  \n",
       "8420      153.00        cat4  2072.0        2          4         2  \n",
       "8609       83.87        cat4  1407.0        2          4         2  "
      ]
     },
     "execution_count": 111,
     "metadata": {},
     "output_type": "execute_result"
    }
   ],
   "source": [
    "final_house.sample(10)"
   ]
  },
  {
   "cell_type": "code",
   "execution_count": 112,
   "id": "acbbd761",
   "metadata": {},
   "outputs": [],
   "source": [
    "mod1=final_house.copy()"
   ]
  },
  {
   "cell_type": "code",
   "execution_count": 113,
   "id": "a1010817",
   "metadata": {},
   "outputs": [],
   "source": [
    "mod1.drop(['area_type','location','availabilty','price'],axis=1,inplace=True)"
   ]
  },
  {
   "cell_type": "code",
   "execution_count": 114,
   "id": "f8ea423a",
   "metadata": {},
   "outputs": [
    {
     "data": {
      "text/plain": [
       "size         0.679645\n",
       "bath         0.718558\n",
       "balcony      0.194389\n",
       "upd_price    1.000000\n",
       "sqft         0.505896\n",
       "upd_loc      0.118972\n",
       "upd_avail    0.085691\n",
       "upd_area     0.332960\n",
       "Name: upd_price, dtype: float64"
      ]
     },
     "execution_count": 114,
     "metadata": {},
     "output_type": "execute_result"
    }
   ],
   "source": [
    "mod1.corr()['upd_price']"
   ]
  },
  {
   "cell_type": "code",
   "execution_count": 115,
   "id": "8e0bc995",
   "metadata": {},
   "outputs": [],
   "source": [
    "from sklearn.model_selection import train_test_split\n",
    "x_train, x_test, y_train, y_test=train_test_split(mod1[['size','bath','balcony','sqft','upd_loc','upd_avail','upd_area']],mod1[['upd_price']],test_size=0.2,random_state=1)"
   ]
  },
  {
   "cell_type": "code",
   "execution_count": 116,
   "id": "7c497546",
   "metadata": {},
   "outputs": [],
   "source": [
    "from sklearn.linear_model import LinearRegression\n",
    "lr=LinearRegression()"
   ]
  },
  {
   "cell_type": "code",
   "execution_count": 117,
   "id": "4c4d0b47",
   "metadata": {},
   "outputs": [
    {
     "data": {
      "text/plain": [
       "LinearRegression()"
      ]
     },
     "execution_count": 117,
     "metadata": {},
     "output_type": "execute_result"
    }
   ],
   "source": [
    "lr.fit(x_train,y_train)"
   ]
  },
  {
   "cell_type": "code",
   "execution_count": 118,
   "id": "861c3348",
   "metadata": {},
   "outputs": [
    {
     "data": {
      "text/plain": [
       "0.6220234480209654"
      ]
     },
     "execution_count": 118,
     "metadata": {},
     "output_type": "execute_result"
    }
   ],
   "source": [
    "lr.score(x_test,y_test)"
   ]
  },
  {
   "cell_type": "code",
   "execution_count": null,
   "id": "fc6c54ea",
   "metadata": {},
   "outputs": [],
   "source": []
  }
 ],
 "metadata": {
  "kernelspec": {
   "display_name": "Python 3 (ipykernel)",
   "language": "python",
   "name": "python3"
  },
  "language_info": {
   "codemirror_mode": {
    "name": "ipython",
    "version": 3
   },
   "file_extension": ".py",
   "mimetype": "text/x-python",
   "name": "python",
   "nbconvert_exporter": "python",
   "pygments_lexer": "ipython3",
   "version": "3.9.7"
  }
 },
 "nbformat": 4,
 "nbformat_minor": 5
}
